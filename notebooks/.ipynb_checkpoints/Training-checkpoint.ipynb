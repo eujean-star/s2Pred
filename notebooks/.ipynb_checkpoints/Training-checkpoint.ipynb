{
 "cells": [
  {
   "cell_type": "code",
   "execution_count": 393,
   "id": "3515b07a",
   "metadata": {},
   "outputs": [],
   "source": [
    "import pandas as pd \n",
    "import numpy as np\n",
    "import inflection\n",
    "import matplotlib as plt\n",
    "import seaborn as sns\n",
    "\n"
   ]
  },
  {
   "cell_type": "markdown",
   "id": "3073d5c9",
   "metadata": {},
   "source": [
    "-> H1 - Quais os horarios que mais é realizado venda?\n",
    "\n",
    "\n",
    "-> H2 - Quais tipos de mercados vendem mais? "
   ]
  },
  {
   "cell_type": "markdown",
   "id": "63f0c449",
   "metadata": {
    "heading_collapsed": true
   },
   "source": [
    "# Analises Iniciais"
   ]
  },
  {
   "cell_type": "code",
   "execution_count": 394,
   "id": "e178d17f",
   "metadata": {
    "hidden": true
   },
   "outputs": [],
   "source": [
    "\n",
    "original_dataframe = pd.read_csv('/home/jan/ds_em_producao/data/supermarket.csv', sep=',')\n",
    "df = original_dataframe.copy()\n"
   ]
  },
  {
   "cell_type": "code",
   "execution_count": 395,
   "id": "4080e0f7",
   "metadata": {
    "hidden": true,
    "hide_input": false
   },
   "outputs": [
    {
     "data": {
      "text/plain": [
       "'lista = []\\nfor coluna in df.columns:\\n    lista.append(coluna)\\n\\ninflection.underscore(lista) \\n\\nnew_cols = list(map(snake, lista))\\ndf.columns = new_cols\\ndf'"
      ]
     },
     "execution_count": 395,
     "metadata": {},
     "output_type": "execute_result"
    }
   ],
   "source": [
    "'''lista = []\n",
    "for coluna in df.columns:\n",
    "    lista.append(coluna)\n",
    "\n",
    "inflection.underscore(lista) \n",
    "\n",
    "new_cols = list(map(snake, lista))\n",
    "df.columns = new_cols\n",
    "df'''\n",
    "\n"
   ]
  },
  {
   "cell_type": "code",
   "execution_count": 396,
   "id": "36afdc9a",
   "metadata": {
    "hidden": true
   },
   "outputs": [
    {
     "data": {
      "text/html": [
       "<div>\n",
       "<style scoped>\n",
       "    .dataframe tbody tr th:only-of-type {\n",
       "        vertical-align: middle;\n",
       "    }\n",
       "\n",
       "    .dataframe tbody tr th {\n",
       "        vertical-align: top;\n",
       "    }\n",
       "\n",
       "    .dataframe thead th {\n",
       "        text-align: right;\n",
       "    }\n",
       "</style>\n",
       "<table border=\"1\" class=\"dataframe\">\n",
       "  <thead>\n",
       "    <tr style=\"text-align: right;\">\n",
       "      <th></th>\n",
       "      <th>Invoice ID</th>\n",
       "      <th>Branch</th>\n",
       "      <th>City</th>\n",
       "      <th>Customer type</th>\n",
       "      <th>Gender</th>\n",
       "      <th>Product line</th>\n",
       "      <th>Unit price</th>\n",
       "      <th>Quantity</th>\n",
       "      <th>Tax 5%</th>\n",
       "      <th>Total</th>\n",
       "      <th>Date</th>\n",
       "      <th>Time</th>\n",
       "      <th>Payment</th>\n",
       "      <th>cogs</th>\n",
       "      <th>gross margin percentage</th>\n",
       "      <th>gross income</th>\n",
       "      <th>Rating</th>\n",
       "    </tr>\n",
       "  </thead>\n",
       "  <tbody>\n",
       "    <tr>\n",
       "      <th>0</th>\n",
       "      <td>750-67-8428</td>\n",
       "      <td>A</td>\n",
       "      <td>Yangon</td>\n",
       "      <td>Member</td>\n",
       "      <td>Female</td>\n",
       "      <td>Health and beauty</td>\n",
       "      <td>74.69</td>\n",
       "      <td>7</td>\n",
       "      <td>26.1415</td>\n",
       "      <td>548.9715</td>\n",
       "      <td>1/5/2019</td>\n",
       "      <td>13:08</td>\n",
       "      <td>Ewallet</td>\n",
       "      <td>522.83</td>\n",
       "      <td>4.761905</td>\n",
       "      <td>26.1415</td>\n",
       "      <td>9.1</td>\n",
       "    </tr>\n",
       "    <tr>\n",
       "      <th>1</th>\n",
       "      <td>226-31-3081</td>\n",
       "      <td>C</td>\n",
       "      <td>Naypyitaw</td>\n",
       "      <td>Normal</td>\n",
       "      <td>Female</td>\n",
       "      <td>Electronic accessories</td>\n",
       "      <td>15.28</td>\n",
       "      <td>5</td>\n",
       "      <td>3.8200</td>\n",
       "      <td>80.2200</td>\n",
       "      <td>3/8/2019</td>\n",
       "      <td>10:29</td>\n",
       "      <td>Cash</td>\n",
       "      <td>76.40</td>\n",
       "      <td>4.761905</td>\n",
       "      <td>3.8200</td>\n",
       "      <td>9.6</td>\n",
       "    </tr>\n",
       "    <tr>\n",
       "      <th>2</th>\n",
       "      <td>631-41-3108</td>\n",
       "      <td>A</td>\n",
       "      <td>Yangon</td>\n",
       "      <td>Normal</td>\n",
       "      <td>Male</td>\n",
       "      <td>Home and lifestyle</td>\n",
       "      <td>46.33</td>\n",
       "      <td>7</td>\n",
       "      <td>16.2155</td>\n",
       "      <td>340.5255</td>\n",
       "      <td>3/3/2019</td>\n",
       "      <td>13:23</td>\n",
       "      <td>Credit card</td>\n",
       "      <td>324.31</td>\n",
       "      <td>4.761905</td>\n",
       "      <td>16.2155</td>\n",
       "      <td>7.4</td>\n",
       "    </tr>\n",
       "    <tr>\n",
       "      <th>3</th>\n",
       "      <td>123-19-1176</td>\n",
       "      <td>A</td>\n",
       "      <td>Yangon</td>\n",
       "      <td>Member</td>\n",
       "      <td>Male</td>\n",
       "      <td>Health and beauty</td>\n",
       "      <td>58.22</td>\n",
       "      <td>8</td>\n",
       "      <td>23.2880</td>\n",
       "      <td>489.0480</td>\n",
       "      <td>1/27/2019</td>\n",
       "      <td>20:33</td>\n",
       "      <td>Ewallet</td>\n",
       "      <td>465.76</td>\n",
       "      <td>4.761905</td>\n",
       "      <td>23.2880</td>\n",
       "      <td>8.4</td>\n",
       "    </tr>\n",
       "    <tr>\n",
       "      <th>4</th>\n",
       "      <td>373-73-7910</td>\n",
       "      <td>A</td>\n",
       "      <td>Yangon</td>\n",
       "      <td>Normal</td>\n",
       "      <td>Male</td>\n",
       "      <td>Sports and travel</td>\n",
       "      <td>86.31</td>\n",
       "      <td>7</td>\n",
       "      <td>30.2085</td>\n",
       "      <td>634.3785</td>\n",
       "      <td>2/8/2019</td>\n",
       "      <td>10:37</td>\n",
       "      <td>Ewallet</td>\n",
       "      <td>604.17</td>\n",
       "      <td>4.761905</td>\n",
       "      <td>30.2085</td>\n",
       "      <td>5.3</td>\n",
       "    </tr>\n",
       "    <tr>\n",
       "      <th>...</th>\n",
       "      <td>...</td>\n",
       "      <td>...</td>\n",
       "      <td>...</td>\n",
       "      <td>...</td>\n",
       "      <td>...</td>\n",
       "      <td>...</td>\n",
       "      <td>...</td>\n",
       "      <td>...</td>\n",
       "      <td>...</td>\n",
       "      <td>...</td>\n",
       "      <td>...</td>\n",
       "      <td>...</td>\n",
       "      <td>...</td>\n",
       "      <td>...</td>\n",
       "      <td>...</td>\n",
       "      <td>...</td>\n",
       "      <td>...</td>\n",
       "    </tr>\n",
       "    <tr>\n",
       "      <th>995</th>\n",
       "      <td>233-67-5758</td>\n",
       "      <td>C</td>\n",
       "      <td>Naypyitaw</td>\n",
       "      <td>Normal</td>\n",
       "      <td>Male</td>\n",
       "      <td>Health and beauty</td>\n",
       "      <td>40.35</td>\n",
       "      <td>1</td>\n",
       "      <td>2.0175</td>\n",
       "      <td>42.3675</td>\n",
       "      <td>1/29/2019</td>\n",
       "      <td>13:46</td>\n",
       "      <td>Ewallet</td>\n",
       "      <td>40.35</td>\n",
       "      <td>4.761905</td>\n",
       "      <td>2.0175</td>\n",
       "      <td>6.2</td>\n",
       "    </tr>\n",
       "    <tr>\n",
       "      <th>996</th>\n",
       "      <td>303-96-2227</td>\n",
       "      <td>B</td>\n",
       "      <td>Mandalay</td>\n",
       "      <td>Normal</td>\n",
       "      <td>Female</td>\n",
       "      <td>Home and lifestyle</td>\n",
       "      <td>97.38</td>\n",
       "      <td>10</td>\n",
       "      <td>48.6900</td>\n",
       "      <td>1022.4900</td>\n",
       "      <td>3/2/2019</td>\n",
       "      <td>17:16</td>\n",
       "      <td>Ewallet</td>\n",
       "      <td>973.80</td>\n",
       "      <td>4.761905</td>\n",
       "      <td>48.6900</td>\n",
       "      <td>4.4</td>\n",
       "    </tr>\n",
       "    <tr>\n",
       "      <th>997</th>\n",
       "      <td>727-02-1313</td>\n",
       "      <td>A</td>\n",
       "      <td>Yangon</td>\n",
       "      <td>Member</td>\n",
       "      <td>Male</td>\n",
       "      <td>Food and beverages</td>\n",
       "      <td>31.84</td>\n",
       "      <td>1</td>\n",
       "      <td>1.5920</td>\n",
       "      <td>33.4320</td>\n",
       "      <td>2/9/2019</td>\n",
       "      <td>13:22</td>\n",
       "      <td>Cash</td>\n",
       "      <td>31.84</td>\n",
       "      <td>4.761905</td>\n",
       "      <td>1.5920</td>\n",
       "      <td>7.7</td>\n",
       "    </tr>\n",
       "    <tr>\n",
       "      <th>998</th>\n",
       "      <td>347-56-2442</td>\n",
       "      <td>A</td>\n",
       "      <td>Yangon</td>\n",
       "      <td>Normal</td>\n",
       "      <td>Male</td>\n",
       "      <td>Home and lifestyle</td>\n",
       "      <td>65.82</td>\n",
       "      <td>1</td>\n",
       "      <td>3.2910</td>\n",
       "      <td>69.1110</td>\n",
       "      <td>2/22/2019</td>\n",
       "      <td>15:33</td>\n",
       "      <td>Cash</td>\n",
       "      <td>65.82</td>\n",
       "      <td>4.761905</td>\n",
       "      <td>3.2910</td>\n",
       "      <td>4.1</td>\n",
       "    </tr>\n",
       "    <tr>\n",
       "      <th>999</th>\n",
       "      <td>849-09-3807</td>\n",
       "      <td>A</td>\n",
       "      <td>Yangon</td>\n",
       "      <td>Member</td>\n",
       "      <td>Female</td>\n",
       "      <td>Fashion accessories</td>\n",
       "      <td>88.34</td>\n",
       "      <td>7</td>\n",
       "      <td>30.9190</td>\n",
       "      <td>649.2990</td>\n",
       "      <td>2/18/2019</td>\n",
       "      <td>13:28</td>\n",
       "      <td>Cash</td>\n",
       "      <td>618.38</td>\n",
       "      <td>4.761905</td>\n",
       "      <td>30.9190</td>\n",
       "      <td>6.6</td>\n",
       "    </tr>\n",
       "  </tbody>\n",
       "</table>\n",
       "<p>1000 rows × 17 columns</p>\n",
       "</div>"
      ],
      "text/plain": [
       "      Invoice ID Branch       City Customer type  Gender  \\\n",
       "0    750-67-8428      A     Yangon        Member  Female   \n",
       "1    226-31-3081      C  Naypyitaw        Normal  Female   \n",
       "2    631-41-3108      A     Yangon        Normal    Male   \n",
       "3    123-19-1176      A     Yangon        Member    Male   \n",
       "4    373-73-7910      A     Yangon        Normal    Male   \n",
       "..           ...    ...        ...           ...     ...   \n",
       "995  233-67-5758      C  Naypyitaw        Normal    Male   \n",
       "996  303-96-2227      B   Mandalay        Normal  Female   \n",
       "997  727-02-1313      A     Yangon        Member    Male   \n",
       "998  347-56-2442      A     Yangon        Normal    Male   \n",
       "999  849-09-3807      A     Yangon        Member  Female   \n",
       "\n",
       "               Product line  Unit price  Quantity   Tax 5%      Total  \\\n",
       "0         Health and beauty       74.69         7  26.1415   548.9715   \n",
       "1    Electronic accessories       15.28         5   3.8200    80.2200   \n",
       "2        Home and lifestyle       46.33         7  16.2155   340.5255   \n",
       "3         Health and beauty       58.22         8  23.2880   489.0480   \n",
       "4         Sports and travel       86.31         7  30.2085   634.3785   \n",
       "..                      ...         ...       ...      ...        ...   \n",
       "995       Health and beauty       40.35         1   2.0175    42.3675   \n",
       "996      Home and lifestyle       97.38        10  48.6900  1022.4900   \n",
       "997      Food and beverages       31.84         1   1.5920    33.4320   \n",
       "998      Home and lifestyle       65.82         1   3.2910    69.1110   \n",
       "999     Fashion accessories       88.34         7  30.9190   649.2990   \n",
       "\n",
       "          Date   Time      Payment    cogs  gross margin percentage  \\\n",
       "0     1/5/2019  13:08      Ewallet  522.83                 4.761905   \n",
       "1     3/8/2019  10:29         Cash   76.40                 4.761905   \n",
       "2     3/3/2019  13:23  Credit card  324.31                 4.761905   \n",
       "3    1/27/2019  20:33      Ewallet  465.76                 4.761905   \n",
       "4     2/8/2019  10:37      Ewallet  604.17                 4.761905   \n",
       "..         ...    ...          ...     ...                      ...   \n",
       "995  1/29/2019  13:46      Ewallet   40.35                 4.761905   \n",
       "996   3/2/2019  17:16      Ewallet  973.80                 4.761905   \n",
       "997   2/9/2019  13:22         Cash   31.84                 4.761905   \n",
       "998  2/22/2019  15:33         Cash   65.82                 4.761905   \n",
       "999  2/18/2019  13:28         Cash  618.38                 4.761905   \n",
       "\n",
       "     gross income  Rating  \n",
       "0         26.1415     9.1  \n",
       "1          3.8200     9.6  \n",
       "2         16.2155     7.4  \n",
       "3         23.2880     8.4  \n",
       "4         30.2085     5.3  \n",
       "..            ...     ...  \n",
       "995        2.0175     6.2  \n",
       "996       48.6900     4.4  \n",
       "997        1.5920     7.7  \n",
       "998        3.2910     4.1  \n",
       "999       30.9190     6.6  \n",
       "\n",
       "[1000 rows x 17 columns]"
      ]
     },
     "execution_count": 396,
     "metadata": {},
     "output_type": "execute_result"
    }
   ],
   "source": [
    "df"
   ]
  },
  {
   "cell_type": "markdown",
   "id": "c320152b",
   "metadata": {
    "hidden": true
   },
   "source": [
    "### Qual a dimensão do nosso conjunto de dados? "
   ]
  },
  {
   "cell_type": "code",
   "execution_count": 397,
   "id": "992f2610",
   "metadata": {
    "hidden": true
   },
   "outputs": [
    {
     "name": "stdout",
     "output_type": "stream",
     "text": [
      "Linhas 1000\n",
      "colunas 17\n"
     ]
    }
   ],
   "source": [
    "print(f'Linhas {df.shape[0]}')\n",
    "print(f'colunas {df.shape[1]}')"
   ]
  },
  {
   "cell_type": "markdown",
   "id": "42827f46",
   "metadata": {
    "hidden": true
   },
   "source": [
    "### Checando os data types"
   ]
  },
  {
   "cell_type": "code",
   "execution_count": 398,
   "id": "861bf236",
   "metadata": {
    "hidden": true
   },
   "outputs": [
    {
     "data": {
      "text/plain": [
       "Invoice ID                  object\n",
       "Branch                      object\n",
       "City                        object\n",
       "Customer type               object\n",
       "Gender                      object\n",
       "Product line                object\n",
       "Unit price                 float64\n",
       "Quantity                     int64\n",
       "Tax 5%                     float64\n",
       "Total                      float64\n",
       "Date                        object\n",
       "Time                        object\n",
       "Payment                     object\n",
       "cogs                       float64\n",
       "gross margin percentage    float64\n",
       "gross income               float64\n",
       "Rating                     float64\n",
       "dtype: object"
      ]
     },
     "execution_count": 398,
     "metadata": {},
     "output_type": "execute_result"
    }
   ],
   "source": [
    "df.dtypes"
   ]
  },
  {
   "cell_type": "markdown",
   "id": "02476fd3",
   "metadata": {
    "hidden": true
   },
   "source": [
    "### Modificações nas cols / checagem de valores nulos"
   ]
  },
  {
   "cell_type": "code",
   "execution_count": 399,
   "id": "9395754e",
   "metadata": {
    "hidden": true,
    "hide_input": true
   },
   "outputs": [
    {
     "data": {
      "text/plain": [
       "Invoice ID                 0\n",
       "Branch                     0\n",
       "City                       0\n",
       "Customer type              0\n",
       "Gender                     0\n",
       "Product line               0\n",
       "Unit price                 0\n",
       "Quantity                   0\n",
       "Tax 5%                     0\n",
       "Total                      0\n",
       "Date                       0\n",
       "Time                       0\n",
       "Payment                    0\n",
       "cogs                       0\n",
       "gross margin percentage    0\n",
       "gross income               0\n",
       "Rating                     0\n",
       "dtype: int64"
      ]
     },
     "execution_count": 399,
     "metadata": {},
     "output_type": "execute_result"
    }
   ],
   "source": [
    "df.isnull().sum()\n",
    "\n"
   ]
  },
  {
   "cell_type": "markdown",
   "id": "e063aced",
   "metadata": {
    "hidden": true
   },
   "source": [
    "**Como não temos valores nulos, pulamos a parte de tratamento dos dados**"
   ]
  },
  {
   "cell_type": "code",
   "execution_count": 400,
   "id": "4091fdbc",
   "metadata": {
    "hidden": true,
    "hide_input": false
   },
   "outputs": [],
   "source": [
    "#colocando coluna date no formato corrego\n",
    "df['Date'] = pd.to_datetime(df['Date'])\n"
   ]
  },
  {
   "cell_type": "code",
   "execution_count": null,
   "id": "6c4a90be",
   "metadata": {
    "hidden": true
   },
   "outputs": [],
   "source": []
  },
  {
   "cell_type": "code",
   "execution_count": 401,
   "id": "41da6c66",
   "metadata": {
    "hidden": true
   },
   "outputs": [],
   "source": [
    "#criar colona com ano, mês e dia, Util pra talvez observar qual dia/mÊs/ano vendeu mais, apesar de que talvez\n",
    "#não seja necessario ja que com o metoódo\n",
    "month = list()\n",
    "dia = list()\n",
    "year = list()\n",
    "\n",
    "for date in df['Date']:\n",
    "    month.append(date.day)\n",
    "    dia.append(date.month)\n",
    "    year.append(date.year)"
   ]
  },
  {
   "cell_type": "markdown",
   "id": "e260a26f",
   "metadata": {},
   "source": [
    "# Analise Descritiva"
   ]
  },
  {
   "cell_type": "code",
   "execution_count": 402,
   "id": "14cbe65b",
   "metadata": {},
   "outputs": [],
   "source": [
    "num_attributes = df.select_dtypes(include=['int64', 'float64'])\n",
    "cat_attributes = df.select_dtypes(include=['int64', 'float64', 'datetime64[ns]'])"
   ]
  },
  {
   "cell_type": "code",
   "execution_count": 403,
   "id": "da9bc505",
   "metadata": {},
   "outputs": [
    {
     "data": {
      "text/html": [
       "<div>\n",
       "<style scoped>\n",
       "    .dataframe tbody tr th:only-of-type {\n",
       "        vertical-align: middle;\n",
       "    }\n",
       "\n",
       "    .dataframe tbody tr th {\n",
       "        vertical-align: top;\n",
       "    }\n",
       "\n",
       "    .dataframe thead th {\n",
       "        text-align: right;\n",
       "    }\n",
       "</style>\n",
       "<table border=\"1\" class=\"dataframe\">\n",
       "  <thead>\n",
       "    <tr style=\"text-align: right;\">\n",
       "      <th></th>\n",
       "      <th>Branch</th>\n",
       "      <th>City</th>\n",
       "      <th>Customer type</th>\n",
       "      <th>Gender</th>\n",
       "      <th>Product line</th>\n",
       "      <th>Unit price</th>\n",
       "      <th>Quantity</th>\n",
       "      <th>Time</th>\n",
       "      <th>Date</th>\n",
       "      <th>Payment</th>\n",
       "      <th>Rating</th>\n",
       "    </tr>\n",
       "  </thead>\n",
       "  <tbody>\n",
       "    <tr>\n",
       "      <th>0</th>\n",
       "      <td>A</td>\n",
       "      <td>Yangon</td>\n",
       "      <td>Member</td>\n",
       "      <td>Female</td>\n",
       "      <td>Health and beauty</td>\n",
       "      <td>74.69</td>\n",
       "      <td>7</td>\n",
       "      <td>13:08</td>\n",
       "      <td>2019-01-05</td>\n",
       "      <td>Ewallet</td>\n",
       "      <td>9.1</td>\n",
       "    </tr>\n",
       "    <tr>\n",
       "      <th>1</th>\n",
       "      <td>C</td>\n",
       "      <td>Naypyitaw</td>\n",
       "      <td>Normal</td>\n",
       "      <td>Female</td>\n",
       "      <td>Electronic accessories</td>\n",
       "      <td>15.28</td>\n",
       "      <td>5</td>\n",
       "      <td>10:29</td>\n",
       "      <td>2019-03-08</td>\n",
       "      <td>Cash</td>\n",
       "      <td>9.6</td>\n",
       "    </tr>\n",
       "    <tr>\n",
       "      <th>2</th>\n",
       "      <td>A</td>\n",
       "      <td>Yangon</td>\n",
       "      <td>Normal</td>\n",
       "      <td>Male</td>\n",
       "      <td>Home and lifestyle</td>\n",
       "      <td>46.33</td>\n",
       "      <td>7</td>\n",
       "      <td>13:23</td>\n",
       "      <td>2019-03-03</td>\n",
       "      <td>Credit card</td>\n",
       "      <td>7.4</td>\n",
       "    </tr>\n",
       "    <tr>\n",
       "      <th>3</th>\n",
       "      <td>A</td>\n",
       "      <td>Yangon</td>\n",
       "      <td>Member</td>\n",
       "      <td>Male</td>\n",
       "      <td>Health and beauty</td>\n",
       "      <td>58.22</td>\n",
       "      <td>8</td>\n",
       "      <td>20:33</td>\n",
       "      <td>2019-01-27</td>\n",
       "      <td>Ewallet</td>\n",
       "      <td>8.4</td>\n",
       "    </tr>\n",
       "    <tr>\n",
       "      <th>4</th>\n",
       "      <td>A</td>\n",
       "      <td>Yangon</td>\n",
       "      <td>Normal</td>\n",
       "      <td>Male</td>\n",
       "      <td>Sports and travel</td>\n",
       "      <td>86.31</td>\n",
       "      <td>7</td>\n",
       "      <td>10:37</td>\n",
       "      <td>2019-02-08</td>\n",
       "      <td>Ewallet</td>\n",
       "      <td>5.3</td>\n",
       "    </tr>\n",
       "    <tr>\n",
       "      <th>...</th>\n",
       "      <td>...</td>\n",
       "      <td>...</td>\n",
       "      <td>...</td>\n",
       "      <td>...</td>\n",
       "      <td>...</td>\n",
       "      <td>...</td>\n",
       "      <td>...</td>\n",
       "      <td>...</td>\n",
       "      <td>...</td>\n",
       "      <td>...</td>\n",
       "      <td>...</td>\n",
       "    </tr>\n",
       "    <tr>\n",
       "      <th>995</th>\n",
       "      <td>C</td>\n",
       "      <td>Naypyitaw</td>\n",
       "      <td>Normal</td>\n",
       "      <td>Male</td>\n",
       "      <td>Health and beauty</td>\n",
       "      <td>40.35</td>\n",
       "      <td>1</td>\n",
       "      <td>13:46</td>\n",
       "      <td>2019-01-29</td>\n",
       "      <td>Ewallet</td>\n",
       "      <td>6.2</td>\n",
       "    </tr>\n",
       "    <tr>\n",
       "      <th>996</th>\n",
       "      <td>B</td>\n",
       "      <td>Mandalay</td>\n",
       "      <td>Normal</td>\n",
       "      <td>Female</td>\n",
       "      <td>Home and lifestyle</td>\n",
       "      <td>97.38</td>\n",
       "      <td>10</td>\n",
       "      <td>17:16</td>\n",
       "      <td>2019-03-02</td>\n",
       "      <td>Ewallet</td>\n",
       "      <td>4.4</td>\n",
       "    </tr>\n",
       "    <tr>\n",
       "      <th>997</th>\n",
       "      <td>A</td>\n",
       "      <td>Yangon</td>\n",
       "      <td>Member</td>\n",
       "      <td>Male</td>\n",
       "      <td>Food and beverages</td>\n",
       "      <td>31.84</td>\n",
       "      <td>1</td>\n",
       "      <td>13:22</td>\n",
       "      <td>2019-02-09</td>\n",
       "      <td>Cash</td>\n",
       "      <td>7.7</td>\n",
       "    </tr>\n",
       "    <tr>\n",
       "      <th>998</th>\n",
       "      <td>A</td>\n",
       "      <td>Yangon</td>\n",
       "      <td>Normal</td>\n",
       "      <td>Male</td>\n",
       "      <td>Home and lifestyle</td>\n",
       "      <td>65.82</td>\n",
       "      <td>1</td>\n",
       "      <td>15:33</td>\n",
       "      <td>2019-02-22</td>\n",
       "      <td>Cash</td>\n",
       "      <td>4.1</td>\n",
       "    </tr>\n",
       "    <tr>\n",
       "      <th>999</th>\n",
       "      <td>A</td>\n",
       "      <td>Yangon</td>\n",
       "      <td>Member</td>\n",
       "      <td>Female</td>\n",
       "      <td>Fashion accessories</td>\n",
       "      <td>88.34</td>\n",
       "      <td>7</td>\n",
       "      <td>13:28</td>\n",
       "      <td>2019-02-18</td>\n",
       "      <td>Cash</td>\n",
       "      <td>6.6</td>\n",
       "    </tr>\n",
       "  </tbody>\n",
       "</table>\n",
       "<p>1000 rows × 11 columns</p>\n",
       "</div>"
      ],
      "text/plain": [
       "    Branch       City Customer type  Gender            Product line  \\\n",
       "0        A     Yangon        Member  Female       Health and beauty   \n",
       "1        C  Naypyitaw        Normal  Female  Electronic accessories   \n",
       "2        A     Yangon        Normal    Male      Home and lifestyle   \n",
       "3        A     Yangon        Member    Male       Health and beauty   \n",
       "4        A     Yangon        Normal    Male       Sports and travel   \n",
       "..     ...        ...           ...     ...                     ...   \n",
       "995      C  Naypyitaw        Normal    Male       Health and beauty   \n",
       "996      B   Mandalay        Normal  Female      Home and lifestyle   \n",
       "997      A     Yangon        Member    Male      Food and beverages   \n",
       "998      A     Yangon        Normal    Male      Home and lifestyle   \n",
       "999      A     Yangon        Member  Female     Fashion accessories   \n",
       "\n",
       "     Unit price  Quantity   Time       Date      Payment  Rating  \n",
       "0         74.69         7  13:08 2019-01-05      Ewallet     9.1  \n",
       "1         15.28         5  10:29 2019-03-08         Cash     9.6  \n",
       "2         46.33         7  13:23 2019-03-03  Credit card     7.4  \n",
       "3         58.22         8  20:33 2019-01-27      Ewallet     8.4  \n",
       "4         86.31         7  10:37 2019-02-08      Ewallet     5.3  \n",
       "..          ...       ...    ...        ...          ...     ...  \n",
       "995       40.35         1  13:46 2019-01-29      Ewallet     6.2  \n",
       "996       97.38        10  17:16 2019-03-02      Ewallet     4.4  \n",
       "997       31.84         1  13:22 2019-02-09         Cash     7.7  \n",
       "998       65.82         1  15:33 2019-02-22         Cash     4.1  \n",
       "999       88.34         7  13:28 2019-02-18         Cash     6.6  \n",
       "\n",
       "[1000 rows x 11 columns]"
      ]
     },
     "execution_count": 403,
     "metadata": {},
     "output_type": "execute_result"
    }
   ],
   "source": [
    "#medidas de tendencia central\n",
    "#Dispersão - std, min, max, range, skew, kurtosis.\n",
    "df_analisys\n"
   ]
  },
  {
   "cell_type": "code",
   "execution_count": 404,
   "id": "e179fc62",
   "metadata": {},
   "outputs": [],
   "source": [
    "df_analisys = df[['Branch', 'City','Customer type', 'Gender', 'Product line', 'Unit price', 'Quantity', 'Time', 'Date','Payment','Rating',]]"
   ]
  },
  {
   "cell_type": "markdown",
   "id": "165c4d42",
   "metadata": {},
   "source": [
    "\n",
    "# Mapa de hipoteses"
   ]
  },
  {
   "cell_type": "markdown",
   "id": "0f940b0c",
   "metadata": {},
   "source": [
    "**Qual tipo de loja vende mais?**\n",
    "\n",
    "**Qual horario vende mais?**\n",
    "\n",
    "**Qual tipo de produto vende mais?**\n",
    "\n",
    "**Os membros compram mais do que os cliente normais.**\n",
    "\n",
    "**Os produtos mais caros são os mais bem pontuados.**"
   ]
  },
  {
   "cell_type": "markdown",
   "id": "216facb0",
   "metadata": {},
   "source": [
    "### Qual tipo de loja vende mais?"
   ]
  },
  {
   "cell_type": "code",
   "execution_count": 419,
   "id": "97181d17",
   "metadata": {
    "hide_input": true
   },
   "outputs": [],
   "source": [
    "h1 = df_analisys[['Branch', 'City']]\n",
    "#---------- criando coluna total_vendas multiplicado o valor da quantidade pelo valor unitario\n",
    "vendas = list()\n",
    "for r, row in df_analisys.iterrows():\n",
    "    x = row['Unit price'] * row['Quantity']\n",
    "    print(x)\n",
    "    vendas.append(x)\n",
    "h1['total_vendas'] = vendas\n",
    "\n",
    "aux = h1[['Branch', 'City', 'total_vendas']].groupby(['Branch', 'City']).sum().reset_index()\n",
    "\n"
   ]
  },
  {
   "cell_type": "code",
   "execution_count": 437,
   "id": "e59872ad",
   "metadata": {
    "hide_input": true
   },
   "outputs": [
    {
     "data": {
      "image/png": "[encoded data removed]",
      "text/plain": [
       "<Figure size 432x288 with 1 Axes>"
      ]
     },
     "metadata": {
      "needs_background": "light"
     },
     "output_type": "display_data"
    }
   ],
   "source": [
    "sns.barplot(x='Branch', y='total_vendas', data=aux);"
   ]
  },
  {
   "cell_type": "markdown",
   "id": "0ec3f36d",
   "metadata": {},
   "source": [
    "**As lojas A e B aparentemente venderam a mesma quantidado, A loja C vendeu mais.**\n",
    "\n",
    "**Podemos ainda olhar pra granularidade do tempo que nos foi apresentado, como por exemplo, qual das lojas venderam mais ao longo dos meses**\n",
    "\n",
    "- > **_podemos ainda levantar questões como, quais os tipos de produtos foram mais vendidos pela loja A, B e C?_**"
   ]
  },
  {
   "cell_type": "markdown",
   "id": "db74606a",
   "metadata": {},
   "source": [
    "### <s>Qual horario vende mais? "
   ]
  },
  {
   "cell_type": "markdown",
   "id": "0748f351",
   "metadata": {},
   "source": [
    "**APrender como trabalhar com horarios data e hora com pandas**"
   ]
  },
  {
   "cell_type": "markdown",
   "id": "b2c5ac0b",
   "metadata": {},
   "source": [
    "### Mulheres consomem mais do que homens\n",
    "\n",
    "**<span class=\"girk\">*Essa hipótese é verdadeira</span>, agora cabe saber se em algum momento os homens já consumiram mais do que as mulheres.**\n",
    "\n",
    "- > **E indo mais profundamento, em qual horario há mais consumo por ambos os generos?**"
   ]
  },
  {
   "cell_type": "code",
   "execution_count": null,
   "id": "7c0efa8c",
   "metadata": {
    "hide_input": false
   },
   "outputs": [],
   "source": [
    "h2 = df_analisys[['Gender', 'Product line', 'Quantity']].groupby(['Gender', 'Product line']).sum().reset_index()"
   ]
  },
  {
   "cell_type": "code",
   "execution_count": 439,
   "id": "d9b33989",
   "metadata": {
    "hide_input": true
   },
   "outputs": [
    {
     "data": {
      "image/png": "[encoded data removed]",
      "text/plain": [
       "<Figure size 1440x1440 with 2 Axes>"
      ]
     },
     "metadata": {
      "needs_background": "light"
     },
     "output_type": "display_data"
    }
   ],
   "source": [
    "import matplotlib.pyplot as plt\n",
    "plt.figure(figsize=[20,20])\n",
    "plt.subplot(2,1,1)\n",
    "sns.barplot(x='Gender', y='Quantity', hue='Product line', data=h2);\n",
    "\n",
    "plt.subplot(2,1,2)\n",
    "h2_1 = h2[h2['Product line'] == 'Electronic accessories']\n",
    "sns.barplot(x='Gender', y='Quantity', data=h2_1);\n",
    "\n",
    "    "
   ]
  },
  {
   "cell_type": "markdown",
   "id": "d9a87313",
   "metadata": {},
   "source": [
    "### Qual tipo cliente consome? \n"
   ]
  },
  {
   "cell_type": "markdown",
   "id": "66a3a470",
   "metadata": {},
   "source": [
    "### qual o perfil de compra dos cliente membros e normais?"
   ]
  },
  {
   "cell_type": "code",
   "execution_count": 446,
   "id": "d3984e85",
   "metadata": {},
   "outputs": [],
   "source": [
    "hipotese_3 = df_analisys[['Customer type', 'Quantity', 'Unit price', 'Time', 'Date']].copy()\n",
    "\n",
    "venda = list()\n",
    "for r, row in hipotese_3.iterrows():\n",
    "    x = row['Quantity'] * row['Unit price']\n",
    "    venda.append(x)\n",
    "\n",
    "hipotese_3['vendas'] = venda"
   ]
  },
  {
   "cell_type": "code",
   "execution_count": 459,
   "id": "a5d30603",
   "metadata": {},
   "outputs": [
    {
     "data": {
      "image/png": "[encoded data removed]",
      "text/plain": [
       "<Figure size 432x288 with 1 Axes>"
      ]
     },
     "metadata": {
      "needs_background": "light"
     },
     "output_type": "display_data"
    }
   ],
   "source": [
    "\n",
    "aux_1 = hipotese_3[['Customer type', 'vendas']].groupby('Customer type').sum().reset_index()\n",
    "sns.barplot(x='Customer type', y='vendas', data=aux_1);"
   ]
  },
  {
   "cell_type": "markdown",
   "id": "ea0e6bfe",
   "metadata": {},
   "source": [
    "### Os produtos mais caros geralmente tem o rate mais alto, visto que são produtos de maior qualidade\n"
   ]
  },
  {
   "cell_type": "code",
   "execution_count": 507,
   "id": "0b20b3d2",
   "metadata": {},
   "outputs": [
    {
     "data": {
      "text/html": [
       "<div>\n",
       "<style scoped>\n",
       "    .dataframe tbody tr th:only-of-type {\n",
       "        vertical-align: middle;\n",
       "    }\n",
       "\n",
       "    .dataframe tbody tr th {\n",
       "        vertical-align: top;\n",
       "    }\n",
       "\n",
       "    .dataframe thead th {\n",
       "        text-align: right;\n",
       "    }\n",
       "</style>\n",
       "<table border=\"1\" class=\"dataframe\">\n",
       "  <thead>\n",
       "    <tr style=\"text-align: right;\">\n",
       "      <th></th>\n",
       "      <th>&gt;=65</th>\n",
       "      <th>&lt;65</th>\n",
       "    </tr>\n",
       "  </thead>\n",
       "  <tbody>\n",
       "    <tr>\n",
       "      <th>0</th>\n",
       "      <td>6.936</td>\n",
       "      <td>6.997167</td>\n",
       "    </tr>\n",
       "  </tbody>\n",
       "</table>\n",
       "</div>"
      ],
      "text/plain": [
       "    >=65       <65\n",
       "0  6.936  6.997167"
      ]
     },
     "execution_count": 507,
     "metadata": {},
     "output_type": "execute_result"
    }
   ],
   "source": [
    "\n",
    "aux_1 = df_analisys[df_analisys['Unit price'] >= 65]['Rating'].mean()\n",
    "aux_2 = df_analisys[df_analisys['Unit price'] < 65]['Rating'].mean()\n",
    "aux_3 = pd.DataFrame([aux_1, aux_2], index=['>=65', '<65']).T\n",
    "aux_3\n",
    "\n",
    "\n"
   ]
  },
  {
   "cell_type": "markdown",
   "id": "891f2b23",
   "metadata": {},
   "source": [
    "**Aparentemente não, a média entre produto com o valor abaixo de 65 e superior a esse valor giram em torno da mesma média**\n",
    "\n",
    "- > **_Isso provavelmente esta acontecendo porque temos uma diferença de 200 tipos de produtos a mais de uma classe pra outra e\n",
    "    isso puxa pra cima a média dos produtos com valor inferior a 65%_**"
   ]
  },
  {
   "cell_type": "code",
   "execution_count": 496,
   "id": "a48fb7db",
   "metadata": {},
   "outputs": [
    {
     "data": {
      "text/plain": [
       "Text(0.5, 1.0, 'Median')"
      ]
     },
     "execution_count": 496,
     "metadata": {},
     "output_type": "execute_result"
    },
    {
     "data": {
      "image/png": "[encoded data removed]",
      "text/plain": [
       "<Figure size 1440x1080 with 2 Axes>"
      ]
     },
     "metadata": {
      "needs_background": "light"
     },
     "output_type": "display_data"
    }
   ],
   "source": [
    "plt.figure(figsize=[20,15])\n",
    "\n",
    "\n",
    "plt.subplot(2,1,1)\n",
    "\n",
    "aux_1 = df_analisys[['Product line', 'Rating']].groupby('Product line').mean().reset_index()\n",
    "sns.barplot(x='Product line', y='Rating', data=aux_1);\n",
    "plt.xticks(rotation=90);\n",
    "plt.title('Mean')\n",
    "\n",
    "plt.subplot(2,1,2)\n",
    "\n",
    "aux_2 = df_analisys[['Product line', 'Rating']].groupby('Product line').median().reset_index()\n",
    "sns.barplot(x='Product line', y='Rating', data=aux_2);\n",
    "plt.xticks(rotation=90);\n",
    "plt.title('Median')\n"
   ]
  },
  {
   "cell_type": "markdown",
   "id": "27beacff",
   "metadata": {},
   "source": [
    "        \n",
    "\n",
    "\n"
   ]
  },
  {
   "cell_type": "code",
   "execution_count": 511,
   "id": "4d4034cd",
   "metadata": {},
   "outputs": [
    {
     "data": {
      "text/plain": [
       "Text(0.5, 0, 'Classe de produtos')"
      ]
     },
     "execution_count": 511,
     "metadata": {},
     "output_type": "execute_result"
    },
    {
     "data": {
      "image/png": "[encoded data removed]",
      "text/plain": [
       "<Figure size 1080x1080 with 1 Axes>"
      ]
     },
     "metadata": {
      "needs_background": "light"
     },
     "output_type": "display_data"
    }
   ],
   "source": [
    "plt.figure(figsize=[15,15])\n",
    "sns.boxplot(x='Product line', y='Rating', data=df_analisys);\n",
    "plt.xticks(rotation=90);\n",
    "plt.xlabel('Classe de produtos')\n"
   ]
  },
  {
   "cell_type": "code",
   "execution_count": null,
   "id": "3fde6a13",
   "metadata": {},
   "outputs": [],
   "source": []
  },
  {
   "cell_type": "code",
   "execution_count": null,
   "id": "aba91016",
   "metadata": {},
   "outputs": [],
   "source": [
    "Vendas_lojaA = df_analisys[ (df_analisys['City'] == 'Yangon') & (df_analisys['Unit price'] * df_analisys['Quantity'])]\n",
    "vendas.sum()\n"
   ]
  },
  {
   "cell_type": "code",
   "execution_count": null,
   "id": "e2cd468b",
   "metadata": {},
   "outputs": [],
   "source": [
    "store_A = df_analisys['Branch'][df_analisys['Branch']=='A'].count()\n",
    "store_B = df_analisys['Branch'][df_analisys['Branch']=='B'].count()\n",
    "store_c = df_analisys['Branch'][df_analisys['Branch']=='C'].count()\n",
    "#store_quantities = pd.concat([store_A, store_B, store_c]) \n",
    "store_quantities = pd.DataFrame([store_A,store_B, store_c], columns=['qt'])\n"
   ]
  },
  {
   "cell_type": "code",
   "execution_count": null,
   "id": "c389ef68",
   "metadata": {},
   "outputs": [],
   "source": [
    "df_analisys"
   ]
  },
  {
   "cell_type": "code",
   "execution_count": null,
   "id": "d87d41e1",
   "metadata": {},
   "outputs": [],
   "source": []
  }
 ],
 "metadata": {
  "kernelspec": {
   "display_name": "Python 3 (ipykernel)",
   "language": "python",
   "name": "python3"
  },
  "language_info": {
   "codemirror_mode": {
    "name": "ipython",
    "version": 3
   },
   "file_extension": ".py",
   "mimetype": "text/x-python",
   "name": "python",
   "nbconvert_exporter": "python",
   "pygments_lexer": "ipython3",
   "version": "3.8.12"
  },
  "toc": {
   "base_numbering": 1,
   "nav_menu": {},
   "number_sections": true,
   "sideBar": true,
   "skip_h1_title": false,
   "title_cell": "Table of Contents",
   "title_sidebar": "Contents",
   "toc_cell": false,
   "toc_position": {},
   "toc_section_display": true,
   "toc_window_display": false
  },
  "varInspector": {
   "cols": {
    "lenName": 16,
    "lenType": 16,
    "lenVar": 40
   },
   "kernels_config": {
    "python": {
     "delete_cmd_postfix": "",
     "delete_cmd_prefix": "del ",
     "library": "var_list.py",
     "varRefreshCmd": "print(var_dic_list())"
    },
    "r": {
     "delete_cmd_postfix": ") ",
     "delete_cmd_prefix": "rm(",
     "library": "var_list.r",
     "varRefreshCmd": "cat(var_dic_list()) "
    }
   },
   "types_to_exclude": [
    "module",
    "function",
    "builtin_function_or_method",
    "instance",
    "_Feature"
   ],
   "window_display": false
  }
 },
 "nbformat": 4,
 "nbformat_minor": 5
}
