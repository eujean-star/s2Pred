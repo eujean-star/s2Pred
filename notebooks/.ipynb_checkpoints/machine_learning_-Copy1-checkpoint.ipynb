{
 "cells": [
  {
   "cell_type": "code",
   "execution_count": 1,
   "id": "2a5d4ebd",
   "metadata": {},
   "outputs": [],
   "source": [
    "import pandas as pd\n",
    "import inflection\n",
    "import numpy as np\n",
    "from IPython.core.display import HTML\n",
    "from IPython.display import Image\n",
    "from sklearn.preprocessing import RobustScaler, MinMaxScaler\n",
    "from sklearn.preprocessing import LabelEncoder, OrdinalEncoder\n",
    "\n",
    "import seaborn as sns\n",
    "import matplotlib.pyplot as plt\n",
    "import datetime\n",
    "%matplotlib inline\n",
    "import random\n",
    "\n"
   ]
  },
  {
   "cell_type": "code",
   "execution_count": 2,
   "id": "2aae8e9e",
   "metadata": {},
   "outputs": [
    {
     "data": {
      "text/html": [
       "<style>.container { width:100% !important; }</style>"
      ],
      "text/plain": [
       "<IPython.core.display.HTML object>"
      ]
     },
     "metadata": {},
     "output_type": "display_data"
    }
   ],
   "source": [
    "from IPython.core.display import display, HTML\n",
    "display(HTML(\"<style>.container { width:100% !important; }</style>\"))"
   ]
  },
  {
   "cell_type": "code",
   "execution_count": 3,
   "id": "f8d4e416",
   "metadata": {},
   "outputs": [],
   "source": [
    "df6 = pd.read_csv('/home/jan/logos_stores/data/df6')"
   ]
  },
  {
   "cell_type": "code",
   "execution_count": 4,
   "id": "2ad8a9da",
   "metadata": {
    "code_folding": [
     0,
     3
    ]
   },
   "outputs": [],
   "source": [
    "def mean_absolute_percentage_error(y, yhat):\n",
    "    return np.mean(np.abs((y - yhat) / y ))\n",
    "    \n",
    "def ml_error(model_name, y, yhat):\n",
    "    mae = mean_absolute_error(y, yhat)\n",
    "    mape = mean_absolute_percentage_error(y, yhat)\n",
    "    rmse = np.sqrt( mean_squared_error(y, yhat))\n",
    "    \n",
    "    return pd.DataFrame({'model_name': model_name,\n",
    "                        'MAE':  mae,\n",
    "                        'MAPE': mape,\n",
    "                        'RMSE': rmse}, index=[0])"
   ]
  },
  {
   "cell_type": "markdown",
   "id": "9d86e2c6",
   "metadata": {
    "heading_collapsed": true
   },
   "source": [
    "# Splitting data to input it"
   ]
  },
  {
   "cell_type": "code",
   "execution_count": 5,
   "id": "f598b17f",
   "metadata": {
    "hidden": true
   },
   "outputs": [],
   "source": [
    "#training dataset\n",
    "X_train = df6[df6['date'] <= '2015-06-19']\n",
    "y_train = X_train.sales\n",
    "\n",
    "#testing dataset\n",
    "X_test = df6[df6['date'] >= '2015-06-19']\n",
    "y_test = X_test.sales"
   ]
  },
  {
   "cell_type": "code",
   "execution_count": 6,
   "id": "73e2531e",
   "metadata": {
    "hidden": true
   },
   "outputs": [],
   "source": [
    "selected_boruta = ['store', 'promo', 'store_type', 'assortment', 'competition_distance', 'competition_open_since_month', 'competition_open_since_year', 'promo2', 'promo2_since_week', 'promo2_since_year', 'competition_time_month', 'promo_time_week', 'day_of_week_sin', 'day_of_week_cos', 'month_sin','month_cos', 'day_cos', 'week_year_sin', 'week_year_cos']\n",
    "feat_to_add = ['sales', 'date']\n",
    "#selected_boruta.extend(feat_to_add)\n"
   ]
  },
  {
   "cell_type": "code",
   "execution_count": 7,
   "id": "dd9da50c",
   "metadata": {
    "hidden": true
   },
   "outputs": [],
   "source": [
    "x_train = X_train[selected_boruta].copy()\n",
    "x_test = X_test[selected_boruta].copy()\n",
    "\n"
   ]
  },
  {
   "cell_type": "code",
   "execution_count": 8,
   "id": "9c6ddc23",
   "metadata": {
    "hidden": true
   },
   "outputs": [],
   "source": [
    "from sklearn.metrics import mean_absolute_error, mean_squared_error"
   ]
  },
  {
   "cell_type": "code",
   "execution_count": 9,
   "id": "e1cff91b",
   "metadata": {
    "hidden": true
   },
   "outputs": [
    {
     "data": {
      "text/html": [
       "<div>\n",
       "<style scoped>\n",
       "    .dataframe tbody tr th:only-of-type {\n",
       "        vertical-align: middle;\n",
       "    }\n",
       "\n",
       "    .dataframe tbody tr th {\n",
       "        vertical-align: top;\n",
       "    }\n",
       "\n",
       "    .dataframe thead th {\n",
       "        text-align: right;\n",
       "    }\n",
       "</style>\n",
       "<table border=\"1\" class=\"dataframe\">\n",
       "  <thead>\n",
       "    <tr style=\"text-align: right;\">\n",
       "      <th></th>\n",
       "      <th>store</th>\n",
       "      <th>date</th>\n",
       "      <th>sales</th>\n",
       "      <th>promo</th>\n",
       "      <th>school_holiday</th>\n",
       "      <th>store_type</th>\n",
       "      <th>assortment</th>\n",
       "      <th>competition_distance</th>\n",
       "      <th>competition_open_since_month</th>\n",
       "      <th>competition_open_since_year</th>\n",
       "      <th>...</th>\n",
       "      <th>state_holiday_Public holiday</th>\n",
       "      <th>state_holiday_Regular day</th>\n",
       "      <th>day_of_week_sin</th>\n",
       "      <th>day_of_week_cos</th>\n",
       "      <th>month_sin</th>\n",
       "      <th>month_cos</th>\n",
       "      <th>week_year_sin</th>\n",
       "      <th>week_year_cos</th>\n",
       "      <th>day_sin</th>\n",
       "      <th>day_cos</th>\n",
       "    </tr>\n",
       "  </thead>\n",
       "  <tbody>\n",
       "    <tr>\n",
       "      <th>40282</th>\n",
       "      <td>1</td>\n",
       "      <td>2015-06-19</td>\n",
       "      <td>8.343554</td>\n",
       "      <td>1</td>\n",
       "      <td>0</td>\n",
       "      <td>2</td>\n",
       "      <td>1</td>\n",
       "      <td>-0.170968</td>\n",
       "      <td>9</td>\n",
       "      <td>2008</td>\n",
       "      <td>...</td>\n",
       "      <td>0</td>\n",
       "      <td>1</td>\n",
       "      <td>-0.974928</td>\n",
       "      <td>-0.222521</td>\n",
       "      <td>1.224647e-16</td>\n",
       "      <td>-1.000000</td>\n",
       "      <td>0.120537</td>\n",
       "      <td>-0.992709</td>\n",
       "      <td>-0.743145</td>\n",
       "      <td>-0.669131</td>\n",
       "    </tr>\n",
       "    <tr>\n",
       "      <th>40283</th>\n",
       "      <td>2</td>\n",
       "      <td>2015-06-19</td>\n",
       "      <td>8.502486</td>\n",
       "      <td>1</td>\n",
       "      <td>0</td>\n",
       "      <td>0</td>\n",
       "      <td>1</td>\n",
       "      <td>-0.283871</td>\n",
       "      <td>11</td>\n",
       "      <td>2007</td>\n",
       "      <td>...</td>\n",
       "      <td>0</td>\n",
       "      <td>1</td>\n",
       "      <td>-0.974928</td>\n",
       "      <td>-0.222521</td>\n",
       "      <td>1.224647e-16</td>\n",
       "      <td>-1.000000</td>\n",
       "      <td>0.120537</td>\n",
       "      <td>-0.992709</td>\n",
       "      <td>-0.743145</td>\n",
       "      <td>-0.669131</td>\n",
       "    </tr>\n",
       "    <tr>\n",
       "      <th>40284</th>\n",
       "      <td>3</td>\n",
       "      <td>2015-06-19</td>\n",
       "      <td>8.996528</td>\n",
       "      <td>1</td>\n",
       "      <td>0</td>\n",
       "      <td>0</td>\n",
       "      <td>1</td>\n",
       "      <td>1.903226</td>\n",
       "      <td>12</td>\n",
       "      <td>2006</td>\n",
       "      <td>...</td>\n",
       "      <td>0</td>\n",
       "      <td>1</td>\n",
       "      <td>-0.974928</td>\n",
       "      <td>-0.222521</td>\n",
       "      <td>1.224647e-16</td>\n",
       "      <td>-1.000000</td>\n",
       "      <td>0.120537</td>\n",
       "      <td>-0.992709</td>\n",
       "      <td>-0.743145</td>\n",
       "      <td>-0.669131</td>\n",
       "    </tr>\n",
       "    <tr>\n",
       "      <th>40285</th>\n",
       "      <td>4</td>\n",
       "      <td>2015-06-19</td>\n",
       "      <td>9.178540</td>\n",
       "      <td>1</td>\n",
       "      <td>0</td>\n",
       "      <td>2</td>\n",
       "      <td>3</td>\n",
       "      <td>-0.275806</td>\n",
       "      <td>9</td>\n",
       "      <td>2009</td>\n",
       "      <td>...</td>\n",
       "      <td>0</td>\n",
       "      <td>1</td>\n",
       "      <td>-0.974928</td>\n",
       "      <td>-0.222521</td>\n",
       "      <td>1.224647e-16</td>\n",
       "      <td>-1.000000</td>\n",
       "      <td>0.120537</td>\n",
       "      <td>-0.992709</td>\n",
       "      <td>-0.743145</td>\n",
       "      <td>-0.669131</td>\n",
       "    </tr>\n",
       "    <tr>\n",
       "      <th>40286</th>\n",
       "      <td>5</td>\n",
       "      <td>2015-06-19</td>\n",
       "      <td>8.650325</td>\n",
       "      <td>1</td>\n",
       "      <td>0</td>\n",
       "      <td>0</td>\n",
       "      <td>1</td>\n",
       "      <td>4.448387</td>\n",
       "      <td>4</td>\n",
       "      <td>2015</td>\n",
       "      <td>...</td>\n",
       "      <td>0</td>\n",
       "      <td>1</td>\n",
       "      <td>-0.974928</td>\n",
       "      <td>-0.222521</td>\n",
       "      <td>1.224647e-16</td>\n",
       "      <td>-1.000000</td>\n",
       "      <td>0.120537</td>\n",
       "      <td>-0.992709</td>\n",
       "      <td>-0.743145</td>\n",
       "      <td>-0.669131</td>\n",
       "    </tr>\n",
       "    <tr>\n",
       "      <th>...</th>\n",
       "      <td>...</td>\n",
       "      <td>...</td>\n",
       "      <td>...</td>\n",
       "      <td>...</td>\n",
       "      <td>...</td>\n",
       "      <td>...</td>\n",
       "      <td>...</td>\n",
       "      <td>...</td>\n",
       "      <td>...</td>\n",
       "      <td>...</td>\n",
       "      <td>...</td>\n",
       "      <td>...</td>\n",
       "      <td>...</td>\n",
       "      <td>...</td>\n",
       "      <td>...</td>\n",
       "      <td>...</td>\n",
       "      <td>...</td>\n",
       "      <td>...</td>\n",
       "      <td>...</td>\n",
       "      <td>...</td>\n",
       "      <td>...</td>\n",
       "    </tr>\n",
       "    <tr>\n",
       "      <th>844333</th>\n",
       "      <td>682</td>\n",
       "      <td>2013-01-01</td>\n",
       "      <td>8.124447</td>\n",
       "      <td>0</td>\n",
       "      <td>1</td>\n",
       "      <td>1</td>\n",
       "      <td>1</td>\n",
       "      <td>-0.351613</td>\n",
       "      <td>9</td>\n",
       "      <td>2006</td>\n",
       "      <td>...</td>\n",
       "      <td>1</td>\n",
       "      <td>0</td>\n",
       "      <td>0.974928</td>\n",
       "      <td>-0.222521</td>\n",
       "      <td>5.000000e-01</td>\n",
       "      <td>0.866025</td>\n",
       "      <td>0.120537</td>\n",
       "      <td>0.992709</td>\n",
       "      <td>0.207912</td>\n",
       "      <td>0.978148</td>\n",
       "    </tr>\n",
       "    <tr>\n",
       "      <th>844334</th>\n",
       "      <td>733</td>\n",
       "      <td>2013-01-01</td>\n",
       "      <td>9.284148</td>\n",
       "      <td>0</td>\n",
       "      <td>1</td>\n",
       "      <td>1</td>\n",
       "      <td>2</td>\n",
       "      <td>-0.237097</td>\n",
       "      <td>10</td>\n",
       "      <td>1999</td>\n",
       "      <td>...</td>\n",
       "      <td>1</td>\n",
       "      <td>0</td>\n",
       "      <td>0.974928</td>\n",
       "      <td>-0.222521</td>\n",
       "      <td>5.000000e-01</td>\n",
       "      <td>0.866025</td>\n",
       "      <td>0.120537</td>\n",
       "      <td>0.992709</td>\n",
       "      <td>0.207912</td>\n",
       "      <td>0.978148</td>\n",
       "    </tr>\n",
       "    <tr>\n",
       "      <th>844335</th>\n",
       "      <td>769</td>\n",
       "      <td>2013-01-01</td>\n",
       "      <td>8.524367</td>\n",
       "      <td>0</td>\n",
       "      <td>1</td>\n",
       "      <td>1</td>\n",
       "      <td>2</td>\n",
       "      <td>-0.240323</td>\n",
       "      <td>1</td>\n",
       "      <td>2013</td>\n",
       "      <td>...</td>\n",
       "      <td>1</td>\n",
       "      <td>0</td>\n",
       "      <td>0.974928</td>\n",
       "      <td>-0.222521</td>\n",
       "      <td>5.000000e-01</td>\n",
       "      <td>0.866025</td>\n",
       "      <td>0.120537</td>\n",
       "      <td>0.992709</td>\n",
       "      <td>0.207912</td>\n",
       "      <td>0.978148</td>\n",
       "    </tr>\n",
       "    <tr>\n",
       "      <th>844336</th>\n",
       "      <td>948</td>\n",
       "      <td>2013-01-01</td>\n",
       "      <td>8.410053</td>\n",
       "      <td>0</td>\n",
       "      <td>1</td>\n",
       "      <td>1</td>\n",
       "      <td>2</td>\n",
       "      <td>-0.145161</td>\n",
       "      <td>1</td>\n",
       "      <td>2013</td>\n",
       "      <td>...</td>\n",
       "      <td>1</td>\n",
       "      <td>0</td>\n",
       "      <td>0.974928</td>\n",
       "      <td>-0.222521</td>\n",
       "      <td>5.000000e-01</td>\n",
       "      <td>0.866025</td>\n",
       "      <td>0.120537</td>\n",
       "      <td>0.992709</td>\n",
       "      <td>0.207912</td>\n",
       "      <td>0.978148</td>\n",
       "    </tr>\n",
       "    <tr>\n",
       "      <th>844337</th>\n",
       "      <td>1097</td>\n",
       "      <td>2013-01-01</td>\n",
       "      <td>8.693161</td>\n",
       "      <td>0</td>\n",
       "      <td>1</td>\n",
       "      <td>1</td>\n",
       "      <td>2</td>\n",
       "      <td>-0.259677</td>\n",
       "      <td>3</td>\n",
       "      <td>2002</td>\n",
       "      <td>...</td>\n",
       "      <td>1</td>\n",
       "      <td>0</td>\n",
       "      <td>0.974928</td>\n",
       "      <td>-0.222521</td>\n",
       "      <td>5.000000e-01</td>\n",
       "      <td>0.866025</td>\n",
       "      <td>0.120537</td>\n",
       "      <td>0.992709</td>\n",
       "      <td>0.207912</td>\n",
       "      <td>0.978148</td>\n",
       "    </tr>\n",
       "  </tbody>\n",
       "</table>\n",
       "<p>804056 rows × 29 columns</p>\n",
       "</div>"
      ],
      "text/plain": [
       "        store        date     sales  promo  school_holiday  store_type  \\\n",
       "40282       1  2015-06-19  8.343554      1               0           2   \n",
       "40283       2  2015-06-19  8.502486      1               0           0   \n",
       "40284       3  2015-06-19  8.996528      1               0           0   \n",
       "40285       4  2015-06-19  9.178540      1               0           2   \n",
       "40286       5  2015-06-19  8.650325      1               0           0   \n",
       "...       ...         ...       ...    ...             ...         ...   \n",
       "844333    682  2013-01-01  8.124447      0               1           1   \n",
       "844334    733  2013-01-01  9.284148      0               1           1   \n",
       "844335    769  2013-01-01  8.524367      0               1           1   \n",
       "844336    948  2013-01-01  8.410053      0               1           1   \n",
       "844337   1097  2013-01-01  8.693161      0               1           1   \n",
       "\n",
       "        assortment  competition_distance  competition_open_since_month  \\\n",
       "40282            1             -0.170968                             9   \n",
       "40283            1             -0.283871                            11   \n",
       "40284            1              1.903226                            12   \n",
       "40285            3             -0.275806                             9   \n",
       "40286            1              4.448387                             4   \n",
       "...            ...                   ...                           ...   \n",
       "844333           1             -0.351613                             9   \n",
       "844334           2             -0.237097                            10   \n",
       "844335           2             -0.240323                             1   \n",
       "844336           2             -0.145161                             1   \n",
       "844337           2             -0.259677                             3   \n",
       "\n",
       "        competition_open_since_year  ...  state_holiday_Public holiday  \\\n",
       "40282                          2008  ...                             0   \n",
       "40283                          2007  ...                             0   \n",
       "40284                          2006  ...                             0   \n",
       "40285                          2009  ...                             0   \n",
       "40286                          2015  ...                             0   \n",
       "...                             ...  ...                           ...   \n",
       "844333                         2006  ...                             1   \n",
       "844334                         1999  ...                             1   \n",
       "844335                         2013  ...                             1   \n",
       "844336                         2013  ...                             1   \n",
       "844337                         2002  ...                             1   \n",
       "\n",
       "        state_holiday_Regular day  day_of_week_sin  day_of_week_cos  \\\n",
       "40282                           1        -0.974928        -0.222521   \n",
       "40283                           1        -0.974928        -0.222521   \n",
       "40284                           1        -0.974928        -0.222521   \n",
       "40285                           1        -0.974928        -0.222521   \n",
       "40286                           1        -0.974928        -0.222521   \n",
       "...                           ...              ...              ...   \n",
       "844333                          0         0.974928        -0.222521   \n",
       "844334                          0         0.974928        -0.222521   \n",
       "844335                          0         0.974928        -0.222521   \n",
       "844336                          0         0.974928        -0.222521   \n",
       "844337                          0         0.974928        -0.222521   \n",
       "\n",
       "           month_sin  month_cos  week_year_sin  week_year_cos   day_sin  \\\n",
       "40282   1.224647e-16  -1.000000       0.120537      -0.992709 -0.743145   \n",
       "40283   1.224647e-16  -1.000000       0.120537      -0.992709 -0.743145   \n",
       "40284   1.224647e-16  -1.000000       0.120537      -0.992709 -0.743145   \n",
       "40285   1.224647e-16  -1.000000       0.120537      -0.992709 -0.743145   \n",
       "40286   1.224647e-16  -1.000000       0.120537      -0.992709 -0.743145   \n",
       "...              ...        ...            ...            ...       ...   \n",
       "844333  5.000000e-01   0.866025       0.120537       0.992709  0.207912   \n",
       "844334  5.000000e-01   0.866025       0.120537       0.992709  0.207912   \n",
       "844335  5.000000e-01   0.866025       0.120537       0.992709  0.207912   \n",
       "844336  5.000000e-01   0.866025       0.120537       0.992709  0.207912   \n",
       "844337  5.000000e-01   0.866025       0.120537       0.992709  0.207912   \n",
       "\n",
       "         day_cos  \n",
       "40282  -0.669131  \n",
       "40283  -0.669131  \n",
       "40284  -0.669131  \n",
       "40285  -0.669131  \n",
       "40286  -0.669131  \n",
       "...          ...  \n",
       "844333  0.978148  \n",
       "844334  0.978148  \n",
       "844335  0.978148  \n",
       "844336  0.978148  \n",
       "844337  0.978148  \n",
       "\n",
       "[804056 rows x 29 columns]"
      ]
     },
     "execution_count": 9,
     "metadata": {},
     "output_type": "execute_result"
    }
   ],
   "source": [
    "X_train"
   ]
  },
  {
   "cell_type": "markdown",
   "id": "2412c685",
   "metadata": {},
   "source": [
    "# Applying Models "
   ]
  },
  {
   "cell_type": "markdown",
   "id": "20981fca",
   "metadata": {},
   "source": [
    "## Average Model"
   ]
  },
  {
   "cell_type": "code",
   "execution_count": 10,
   "id": "e8e9bd68",
   "metadata": {},
   "outputs": [
    {
     "data": {
      "text/html": [
       "<div>\n",
       "<style scoped>\n",
       "    .dataframe tbody tr th:only-of-type {\n",
       "        vertical-align: middle;\n",
       "    }\n",
       "\n",
       "    .dataframe tbody tr th {\n",
       "        vertical-align: top;\n",
       "    }\n",
       "\n",
       "    .dataframe thead th {\n",
       "        text-align: right;\n",
       "    }\n",
       "</style>\n",
       "<table border=\"1\" class=\"dataframe\">\n",
       "  <thead>\n",
       "    <tr style=\"text-align: right;\">\n",
       "      <th></th>\n",
       "      <th>model_name</th>\n",
       "      <th>MAE</th>\n",
       "      <th>MAPE</th>\n",
       "      <th>RMSE</th>\n",
       "    </tr>\n",
       "  </thead>\n",
       "  <tbody>\n",
       "    <tr>\n",
       "      <th>0</th>\n",
       "      <td>Average_model</td>\n",
       "      <td>1354.800353</td>\n",
       "      <td>0.2064</td>\n",
       "      <td>1835.135542</td>\n",
       "    </tr>\n",
       "  </tbody>\n",
       "</table>\n",
       "</div>"
      ],
      "text/plain": [
       "      model_name          MAE    MAPE         RMSE\n",
       "0  Average_model  1354.800353  0.2064  1835.135542"
      ]
     },
     "execution_count": 10,
     "metadata": {},
     "output_type": "execute_result"
    }
   ],
   "source": [
    "aux1 = x_test.copy()\n",
    "aux1['sales'] = y_test.copy()\n",
    "\n",
    "#predicton\n",
    "aux2 = aux1[['store', 'sales']].groupby('store').mean().reset_index().rename(columns={'sales': 'prediction'})\n",
    "aux1 = pd.merge(aux1, aux2, how='left', on='store')\n",
    "yhat_baseline = aux1['prediction']\n",
    "\n",
    "baseline_result = ml_error(model_name='Average_model', y=np.expm1( y_test), yhat=np.expm1(yhat_baseline) )\n",
    "baseline_result"
   ]
  },
  {
   "cell_type": "markdown",
   "id": "e4a553b4",
   "metadata": {},
   "source": [
    "## Linear Regression Model"
   ]
  },
  {
   "cell_type": "code",
   "execution_count": 11,
   "id": "ea221a16",
   "metadata": {},
   "outputs": [],
   "source": [
    "from sklearn.linear_model import LinearRegression"
   ]
  },
  {
   "cell_type": "code",
   "execution_count": 12,
   "id": "b36ae7a6",
   "metadata": {},
   "outputs": [],
   "source": [
    "lr = LinearRegression()\n",
    "lr.fit(x_train, y_train)\n",
    "#prediction\n",
    "pred = lr.predict(x_test)\n",
    "#performance\n",
    "lr_model = ml_error('linear regression', np.expm1(y_test), np.expm1(pred))"
   ]
  },
  {
   "cell_type": "code",
   "execution_count": 13,
   "id": "827feaa8",
   "metadata": {
    "scrolled": true
   },
   "outputs": [
    {
     "data": {
      "text/html": [
       "<div>\n",
       "<style scoped>\n",
       "    .dataframe tbody tr th:only-of-type {\n",
       "        vertical-align: middle;\n",
       "    }\n",
       "\n",
       "    .dataframe tbody tr th {\n",
       "        vertical-align: top;\n",
       "    }\n",
       "\n",
       "    .dataframe thead th {\n",
       "        text-align: right;\n",
       "    }\n",
       "</style>\n",
       "<table border=\"1\" class=\"dataframe\">\n",
       "  <thead>\n",
       "    <tr style=\"text-align: right;\">\n",
       "      <th></th>\n",
       "      <th>model_name</th>\n",
       "      <th>MAE</th>\n",
       "      <th>MAPE</th>\n",
       "      <th>RMSE</th>\n",
       "    </tr>\n",
       "  </thead>\n",
       "  <tbody>\n",
       "    <tr>\n",
       "      <th>0</th>\n",
       "      <td>linear regression</td>\n",
       "      <td>1871.316911</td>\n",
       "      <td>0.294822</td>\n",
       "      <td>2671.870632</td>\n",
       "    </tr>\n",
       "  </tbody>\n",
       "</table>\n",
       "</div>"
      ],
      "text/plain": [
       "          model_name          MAE      MAPE         RMSE\n",
       "0  linear regression  1871.316911  0.294822  2671.870632"
      ]
     },
     "execution_count": 13,
     "metadata": {},
     "output_type": "execute_result"
    }
   ],
   "source": [
    "lr_model"
   ]
  },
  {
   "cell_type": "markdown",
   "id": "57296bbc",
   "metadata": {},
   "source": [
    "## Linear Regression Regularized Model - LASSO"
   ]
  },
  {
   "cell_type": "code",
   "execution_count": 14,
   "id": "7a9f3357",
   "metadata": {},
   "outputs": [],
   "source": [
    "from sklearn.linear_model import Lasso"
   ]
  },
  {
   "cell_type": "code",
   "execution_count": 15,
   "id": "8ca3d285",
   "metadata": {},
   "outputs": [
    {
     "data": {
      "text/html": [
       "<div>\n",
       "<style scoped>\n",
       "    .dataframe tbody tr th:only-of-type {\n",
       "        vertical-align: middle;\n",
       "    }\n",
       "\n",
       "    .dataframe tbody tr th {\n",
       "        vertical-align: top;\n",
       "    }\n",
       "\n",
       "    .dataframe thead th {\n",
       "        text-align: right;\n",
       "    }\n",
       "</style>\n",
       "<table border=\"1\" class=\"dataframe\">\n",
       "  <thead>\n",
       "    <tr style=\"text-align: right;\">\n",
       "      <th></th>\n",
       "      <th>model_name</th>\n",
       "      <th>MAE</th>\n",
       "      <th>MAPE</th>\n",
       "      <th>RMSE</th>\n",
       "    </tr>\n",
       "  </thead>\n",
       "  <tbody>\n",
       "    <tr>\n",
       "      <th>0</th>\n",
       "      <td>linear regression - lasso</td>\n",
       "      <td>2190.763406</td>\n",
       "      <td>0.342949</td>\n",
       "      <td>3093.681313</td>\n",
       "    </tr>\n",
       "  </tbody>\n",
       "</table>\n",
       "</div>"
      ],
      "text/plain": [
       "                  model_name          MAE      MAPE         RMSE\n",
       "0  linear regression - lasso  2190.763406  0.342949  3093.681313"
      ]
     },
     "execution_count": 15,
     "metadata": {},
     "output_type": "execute_result"
    }
   ],
   "source": [
    "lrr = Lasso(alpha=0.1)\n",
    "lrr.fit(x_train, y_train)\n",
    "#prediction\n",
    "pre = lrr.predict(x_test)\n",
    "#performance\n",
    "lrr_model = ml_error('linear regression - lasso', np.expm1(y_test), np.expm1(pre))\n",
    "lrr_model"
   ]
  },
  {
   "cell_type": "markdown",
   "id": "c6bceb59",
   "metadata": {},
   "source": [
    "## Randon Forest Regressor"
   ]
  },
  {
   "cell_type": "code",
   "execution_count": 16,
   "id": "d121070c",
   "metadata": {},
   "outputs": [],
   "source": [
    "from sklearn.ensemble import RandomForestRegressor"
   ]
  },
  {
   "cell_type": "code",
   "execution_count": 17,
   "id": "9c0e3f97",
   "metadata": {
    "scrolled": true
   },
   "outputs": [
    {
     "data": {
      "text/html": [
       "<div>\n",
       "<style scoped>\n",
       "    .dataframe tbody tr th:only-of-type {\n",
       "        vertical-align: middle;\n",
       "    }\n",
       "\n",
       "    .dataframe tbody tr th {\n",
       "        vertical-align: top;\n",
       "    }\n",
       "\n",
       "    .dataframe thead th {\n",
       "        text-align: right;\n",
       "    }\n",
       "</style>\n",
       "<table border=\"1\" class=\"dataframe\">\n",
       "  <thead>\n",
       "    <tr style=\"text-align: right;\">\n",
       "      <th></th>\n",
       "      <th>model_name</th>\n",
       "      <th>MAE</th>\n",
       "      <th>MAPE</th>\n",
       "      <th>RMSE</th>\n",
       "    </tr>\n",
       "  </thead>\n",
       "  <tbody>\n",
       "    <tr>\n",
       "      <th>0</th>\n",
       "      <td>random forest</td>\n",
       "      <td>0.096063</td>\n",
       "      <td>0.011041</td>\n",
       "      <td>0.129433</td>\n",
       "    </tr>\n",
       "  </tbody>\n",
       "</table>\n",
       "</div>"
      ],
      "text/plain": [
       "      model_name       MAE      MAPE      RMSE\n",
       "0  random forest  0.096063  0.011041  0.129433"
      ]
     },
     "execution_count": 17,
     "metadata": {},
     "output_type": "execute_result"
    }
   ],
   "source": [
    "rs = RandomForestRegressor(n_estimators=50, \n",
    "                           n_jobs = -1, \n",
    "                           random_state=42)\n",
    "rs.fit(x_train, y_train)\n",
    "#-----------------------------------------------------------------#\n",
    "yhat_rf   = rs.predict(x_test)\n",
    "rf_result = ml_error('random forest', y_test, yhat_rf)\n",
    "rf_result"
   ]
  },
  {
   "cell_type": "markdown",
   "id": "cd934fd7",
   "metadata": {
    "heading_collapsed": true
   },
   "source": [
    "## XGBoost Model"
   ]
  },
  {
   "cell_type": "code",
   "execution_count": 18,
   "id": "124c60a9",
   "metadata": {
    "hidden": true
   },
   "outputs": [
    {
     "name": "stderr",
     "output_type": "stream",
     "text": [
      "/home/jan/miniconda3/envs/ds_prod/lib/python3.8/site-packages/xgboost/compat.py:36: FutureWarning: pandas.Int64Index is deprecated and will be removed from pandas in a future version. Use pandas.Index with the appropriate dtype instead.\n",
      "  from pandas import MultiIndex, Int64Index\n"
     ]
    }
   ],
   "source": [
    "import xgboost as xgb"
   ]
  },
  {
   "cell_type": "code",
   "execution_count": 19,
   "id": "f85093d6",
   "metadata": {
    "hidden": true
   },
   "outputs": [
    {
     "name": "stderr",
     "output_type": "stream",
     "text": [
      "/home/jan/miniconda3/envs/ds_prod/lib/python3.8/site-packages/xgboost/data.py:262: FutureWarning: pandas.Int64Index is deprecated and will be removed from pandas in a future version. Use pandas.Index with the appropriate dtype instead.\n",
      "  elif isinstance(data.columns, (pd.Int64Index, pd.RangeIndex)):\n"
     ]
    },
    {
     "data": {
      "text/html": [
       "<div>\n",
       "<style scoped>\n",
       "    .dataframe tbody tr th:only-of-type {\n",
       "        vertical-align: middle;\n",
       "    }\n",
       "\n",
       "    .dataframe tbody tr th {\n",
       "        vertical-align: top;\n",
       "    }\n",
       "\n",
       "    .dataframe thead th {\n",
       "        text-align: right;\n",
       "    }\n",
       "</style>\n",
       "<table border=\"1\" class=\"dataframe\">\n",
       "  <thead>\n",
       "    <tr style=\"text-align: right;\">\n",
       "      <th></th>\n",
       "      <th>model_name</th>\n",
       "      <th>MAE</th>\n",
       "      <th>MAPE</th>\n",
       "      <th>RMSE</th>\n",
       "    </tr>\n",
       "  </thead>\n",
       "  <tbody>\n",
       "    <tr>\n",
       "      <th>0</th>\n",
       "      <td>XBG_boost</td>\n",
       "      <td>3.03401</td>\n",
       "      <td>0.345174</td>\n",
       "      <td>3.05108</td>\n",
       "    </tr>\n",
       "  </tbody>\n",
       "</table>\n",
       "</div>"
      ],
      "text/plain": [
       "  model_name      MAE      MAPE     RMSE\n",
       "0  XBG_boost  3.03401  0.345174  3.05108"
      ]
     },
     "execution_count": 19,
     "metadata": {},
     "output_type": "execute_result"
    }
   ],
   "source": [
    "model_xgb  = xgb.XGBRegressor(objective='reg:squarederror',\n",
    "                             n_estimators=100,\n",
    "                             eta=0.01,\n",
    "                             max_depth=10, \n",
    "                             subsample=0.7)\n",
    "model_xgb.fit(x_train, y_train)\n",
    "#-----------------------------------------------------------------#\n",
    "yhat_xgb   = model_xgb.predict(x_test)\n",
    "xgb_result = ml_error('XBG_boost', y_test, yhat_xgb)\n",
    "xgb_result"
   ]
  },
  {
   "cell_type": "markdown",
   "id": "913f8a12",
   "metadata": {
    "heading_collapsed": true
   },
   "source": [
    "## Comparing Model's Performance"
   ]
  },
  {
   "cell_type": "code",
   "execution_count": 20,
   "id": "3faa1295",
   "metadata": {
    "hidden": true
   },
   "outputs": [
    {
     "data": {
      "text/html": [
       "<div>\n",
       "<style scoped>\n",
       "    .dataframe tbody tr th:only-of-type {\n",
       "        vertical-align: middle;\n",
       "    }\n",
       "\n",
       "    .dataframe tbody tr th {\n",
       "        vertical-align: top;\n",
       "    }\n",
       "\n",
       "    .dataframe thead th {\n",
       "        text-align: right;\n",
       "    }\n",
       "</style>\n",
       "<table border=\"1\" class=\"dataframe\">\n",
       "  <thead>\n",
       "    <tr style=\"text-align: right;\">\n",
       "      <th></th>\n",
       "      <th>model_name</th>\n",
       "      <th>MAE</th>\n",
       "      <th>MAPE</th>\n",
       "      <th>RMSE</th>\n",
       "    </tr>\n",
       "  </thead>\n",
       "  <tbody>\n",
       "    <tr>\n",
       "      <th>0</th>\n",
       "      <td>random forest</td>\n",
       "      <td>0.096063</td>\n",
       "      <td>0.011041</td>\n",
       "      <td>0.129433</td>\n",
       "    </tr>\n",
       "    <tr>\n",
       "      <th>0</th>\n",
       "      <td>XBG_boost</td>\n",
       "      <td>3.034010</td>\n",
       "      <td>0.345174</td>\n",
       "      <td>3.051080</td>\n",
       "    </tr>\n",
       "    <tr>\n",
       "      <th>0</th>\n",
       "      <td>Average_model</td>\n",
       "      <td>1354.800353</td>\n",
       "      <td>0.206400</td>\n",
       "      <td>1835.135542</td>\n",
       "    </tr>\n",
       "    <tr>\n",
       "      <th>0</th>\n",
       "      <td>linear regression</td>\n",
       "      <td>1871.316911</td>\n",
       "      <td>0.294822</td>\n",
       "      <td>2671.870632</td>\n",
       "    </tr>\n",
       "    <tr>\n",
       "      <th>0</th>\n",
       "      <td>linear regression - lasso</td>\n",
       "      <td>2190.763406</td>\n",
       "      <td>0.342949</td>\n",
       "      <td>3093.681313</td>\n",
       "    </tr>\n",
       "  </tbody>\n",
       "</table>\n",
       "</div>"
      ],
      "text/plain": [
       "                  model_name          MAE      MAPE         RMSE\n",
       "0              random forest     0.096063  0.011041     0.129433\n",
       "0                  XBG_boost     3.034010  0.345174     3.051080\n",
       "0              Average_model  1354.800353  0.206400  1835.135542\n",
       "0          linear regression  1871.316911  0.294822  2671.870632\n",
       "0  linear regression - lasso  2190.763406  0.342949  3093.681313"
      ]
     },
     "execution_count": 20,
     "metadata": {},
     "output_type": "execute_result"
    }
   ],
   "source": [
    "modeling_table = pd.concat([baseline_result, lr_model, lrr_model, rf_result, xgb_result])\n",
    "modeling_table.sort_values('RMSE')"
   ]
  },
  {
   "cell_type": "markdown",
   "id": "3dc5bc90",
   "metadata": {
    "heading_collapsed": true
   },
   "source": [
    "## CrossValidation"
   ]
  },
  {
   "cell_type": "code",
   "execution_count": 21,
   "id": "d84c26ae",
   "metadata": {
    "hidden": true
   },
   "outputs": [],
   "source": [
    "boruta_all = selected_boruta.copy()\n",
    "boruta_all.extend(feat_to_add)"
   ]
  },
  {
   "cell_type": "code",
   "execution_count": 22,
   "id": "637935d9",
   "metadata": {
    "hidden": true
   },
   "outputs": [],
   "source": [
    "x_training = X_train[boruta_all]"
   ]
  },
  {
   "cell_type": "code",
   "execution_count": 23,
   "id": "be4ea9ed",
   "metadata": {
    "hidden": true,
    "scrolled": true
   },
   "outputs": [
    {
     "name": "stderr",
     "output_type": "stream",
     "text": [
      "/tmp/ipykernel_10161/888048146.py:1: SettingWithCopyWarning: \n",
      "A value is trying to be set on a copy of a slice from a DataFrame.\n",
      "Try using .loc[row_indexer,col_indexer] = value instead\n",
      "\n",
      "See the caveats in the documentation: https://pandas.pydata.org/pandas-docs/stable/user_guide/indexing.html#returning-a-view-versus-a-copy\n",
      "  x_training.date = pd.to_datetime(x_training.date)\n"
     ]
    }
   ],
   "source": [
    "x_training.date = pd.to_datetime(x_training.date)"
   ]
  },
  {
   "cell_type": "code",
   "execution_count": 24,
   "id": "28d8eeca",
   "metadata": {
    "hidden": true
   },
   "outputs": [
    {
     "data": {
      "text/plain": [
       "store                                    int64\n",
       "promo                                    int64\n",
       "store_type                               int64\n",
       "assortment                               int64\n",
       "competition_distance                   float64\n",
       "competition_open_since_month             int64\n",
       "competition_open_since_year              int64\n",
       "promo2                                   int64\n",
       "promo2_since_week                        int64\n",
       "promo2_since_year                        int64\n",
       "competition_time_month                 float64\n",
       "promo_time_week                        float64\n",
       "day_of_week_sin                        float64\n",
       "day_of_week_cos                        float64\n",
       "month_sin                              float64\n",
       "month_cos                              float64\n",
       "day_cos                                float64\n",
       "week_year_sin                          float64\n",
       "week_year_cos                          float64\n",
       "sales                                  float64\n",
       "date                            datetime64[ns]\n",
       "dtype: object"
      ]
     },
     "execution_count": 24,
     "metadata": {},
     "output_type": "execute_result"
    }
   ],
   "source": [
    "x_training.dtypes\n"
   ]
  },
  {
   "cell_type": "code",
   "execution_count": 25,
   "id": "84cb9051",
   "metadata": {
    "code_folding": [
     0
    ],
    "hidden": true
   },
   "outputs": [],
   "source": [
    "def crossvalidation(xtraining, kfold, model_name, model, verbose = False):\n",
    "    mae_list  = list()\n",
    "    mape_list = list()\n",
    "    rmse_list = list()\n",
    "    for k in reversed(range(1,kfold+1)):\n",
    "        if verbose:\n",
    "            print(f'kfold number {k}')\n",
    "        \n",
    "            # ----- Start/End dates -----------------------\n",
    "        time_start = x_training.date.max() - datetime.timedelta(days=k*6*7)\n",
    "        time_end   = x_training.date.max() - datetime.timedelta(days=(k-1)*6*7)\n",
    "\n",
    "            # ----- filters   -----------------------------\n",
    "        training   = x_training[x_training.date < time_start]\n",
    "        validation = x_training[(x_training.date >= time_start) & (x_training.date <= time_end)]\n",
    "\n",
    "            # ----- training  -----------------------------\n",
    "        xtraining   = training.drop(['date', 'sales'], axis=1)\n",
    "        ytraining = training['sales']\n",
    "\n",
    "            # ----- validation  ---------------------------\n",
    "        xvalidation = validation.drop(['date', 'sales'], axis=1)\n",
    "        yvalidation = validation['sales']\n",
    "\n",
    "            # -----  Applying model -----------------------\n",
    "        model_chose = model\n",
    "        model_chose.fit(xtraining, ytraining)\n",
    "        m_predict = model.predict(xvalidation)\n",
    "\n",
    "            #  ----- model evaluation by mean function ----  \n",
    "        m_result = ml_error(model_name, np.expm1( yvalidation), np.expm1(m_predict))\n",
    "        if verbose:\n",
    "            print(m_result,'\\n')\n",
    "\n",
    "        #storage\n",
    "        mae_list.append(m_result['MAE'])\n",
    "        mape_list.append(m_result['MAPE'])\n",
    "        rmse_list.append(m_result['RMSE'])\n",
    "\n",
    "    return pd.DataFrame({'MAE': np.round(np.mean(mae_list), 2).astype(str) + ' +/- ' + np.round(np.std(mae_list), 2).astype(str),\n",
    "                        'MAPE': np.round(np.mean(mape_list), 2).astype(str) + ' +/- ' + np.round(np.std(mape_list), 2).astype(str),\n",
    "                        'RMSE': np.round(np.mean(rmse_list), 2).astype(str) + ' +/- ' + np.round(np.std(rmse_list), 2).astype(str)}, index=[0]\n",
    "                       )"
   ]
  },
  {
   "cell_type": "markdown",
   "id": "7e9e4d23",
   "metadata": {
    "heading_collapsed": true
   },
   "source": [
    "## Real Rerformance Model's CrossValidation"
   ]
  },
  {
   "cell_type": "code",
   "execution_count": 26,
   "id": "7d450de0",
   "metadata": {
    "hidden": true
   },
   "outputs": [
    {
     "ename": "SyntaxError",
     "evalue": "invalid syntax (3530367515.py, line 4)",
     "output_type": "error",
     "traceback": [
      "\u001b[0;36m  File \u001b[0;32m\"/tmp/ipykernel_10161/3530367515.py\"\u001b[0;36m, line \u001b[0;32m4\u001b[0m\n\u001b[0;31m    aux1['sales'] = y_test.copy()\u001b[0m\n\u001b[0m    ^\u001b[0m\n\u001b[0;31mSyntaxError\u001b[0m\u001b[0;31m:\u001b[0m invalid syntax\n"
     ]
    }
   ],
   "source": [
    "df_lr = crossvalidation(x_training, kfold=5, model_name='linear', model=lr)\n",
    "df_lrr = crossvalidation(x_training, kfold=5, model_name='lrr', model=lrr)\n",
    "df_xgb = crossvalidation(x_traininpy()\n",
    "aux1['sales'] = y_test.copy()\n",
    "\n",
    "#predicton\n",
    "aux2 = aux1[['store', 'sales']].groupby('store').mean().reset_index().rename(columns={'sales': 'prediction'})\n",
    "aux1 = pd.g, kfold=5, model_name='xgb', model=model_xgb, verbose=True)\n",
    "df_rf = crossvalidation(x_training, kfold=5, model_name='arvore', model=rs, verbose=True)"
   ]
  },
  {
   "cell_type": "code",
   "execution_count": null,
   "id": "bdc195f5",
   "metadata": {
    "hidden": true
   },
   "outputs": [],
   "source": [
    "all_real_performance = pd.concat([df_lr, df_lrr, df_xgb, df_rf])\n",
    "all_real_performance['model'] = ['Linear Regression', 'Lasso Regularized', 'XGB', 'Random']\n",
    "all_real_performance"
   ]
  },
  {
   "cell_type": "markdown",
   "id": "aadacefd",
   "metadata": {
    "heading_collapsed": true
   },
   "source": [
    "## Hiperparametros. "
   ]
  },
  {
   "cell_type": "markdown",
   "id": "f3c88550",
   "metadata": {
    "hidden": true
   },
   "source": [
    "### Random Search"
   ]
  },
  {
   "cell_type": "code",
   "execution_count": null,
   "id": "44cf9cac",
   "metadata": {
    "hidden": true
   },
   "outputs": [],
   "source": [
    "param_tuned = {\n",
    "    'n_estimators': 3000,\n",
    "    'eta': 0.03,\n",
    "    'max_depth': 5,\n",
    "    'subsample': 0.7,\n",
    "    'colsample_bytree': 0.7,\n",
    "    'min_child_weight': 3}\n",
    "\n",
    "\n",
    "\n",
    "param = {'n_estimators':[1500,1700,2500,3000,3500],\n",
    "         'eta':[0.01, 0.03],\n",
    "         'max_depth':[3,5,9], \n",
    "         'subsample':[0.1, 0.5, 0.7],\n",
    "         'coldsample_bytree':[0.3, 0.7, 0.9],\n",
    "         'min_child_weight':[3,8,15]}\n",
    "\n",
    "maxeval= 2"
   ]
  },
  {
   "cell_type": "code",
   "execution_count": 60,
   "id": "c8999470",
   "metadata": {
    "hidden": true
   },
   "outputs": [
    {
     "name": "stdout",
     "output_type": "stream",
     "text": [
      "{'n_estimators': 25, 'eta': 0.01, 'max_depth': 3, 'subsample': 0.5, 'coldsample_bytree': 0.7, 'min_child_weight': 8}\n",
      "[17:26:28] WARNING: ../src/learner.cc:576: \n",
      "Parameters: { \"coldsample_bytree\" } might not be used.\n",
      "\n",
      "  This could be a false alarm, with some parameters getting used by language bindings but\n",
      "  then being mistakenly passed down to XGBoost core, or some parameter actually being used\n",
      "  but getting flagged wrongly here. Please open an issue if you find any such cases.\n",
      "\n",
      "\n",
      "[17:26:33] WARNING: ../src/learner.cc:576: \n",
      "Parameters: { \"coldsample_bytree\" } might not be used.\n",
      "\n",
      "  This could be a false alarm, with some parameters getting used by language bindings but\n",
      "  then being mistakenly passed down to XGBoost core, or some parameter actually being used\n",
      "  but getting flagged wrongly here. Please open an issue if you find any such cases.\n",
      "\n",
      "\n",
      "{'n_estimators': 35, 'eta': 0.03, 'max_depth': 3, 'subsample': 0.1, 'coldsample_bytree': 0.3, 'min_child_weight': 8}\n",
      "[17:26:38] WARNING: ../src/learner.cc:576: \n",
      "Parameters: { \"coldsample_bytree\" } might not be used.\n",
      "\n",
      "  This could be a false alarm, with some parameters getting used by language bindings but\n",
      "  then being mistakenly passed down to XGBoost core, or some parameter actually being used\n",
      "  but getting flagged wrongly here. Please open an issue if you find any such cases.\n",
      "\n",
      "\n",
      "[17:26:43] WARNING: ../src/learner.cc:576: \n",
      "Parameters: { \"coldsample_bytree\" } might not be used.\n",
      "\n",
      "  This could be a false alarm, with some parameters getting used by language bindings but\n",
      "  then being mistakenly passed down to XGBoost core, or some parameter actually being used\n",
      "  but getting flagged wrongly here. Please open an issue if you find any such cases.\n",
      "\n",
      "\n"
     ]
    }
   ],
   "source": [
    "import warnings\n",
    "warnings.filterwarnings(\"ignore\")\n",
    "'''\n",
    "final_result = pd.DataFrame()\n",
    "#model\n",
    "\n",
    "\n",
    "for i in range(maxeval):\n",
    "    hp = {k :random.sample(v, 1)[0] for k, v in param.items()}\n",
    "    print(hp)\n",
    "    \n",
    "    #model preformming\n",
    "    model_xgb  = xgb.XGBRegressor(objective        = 'reg:squarederror',\n",
    "                                  n_estimators      = hp['n_estimators'],\n",
    "                                  eta               = hp['eta'],\n",
    "                                  max_depth         = hp['max_depth'], \n",
    "                                  subsample         = hp['subsample'],\n",
    "                                  coldsample_bytree = hp['coldsample_bytree'],\n",
    "                                  min_child_weight  = hp['min_child_weight']\n",
    "                                  )\n",
    "\n",
    "\n",
    "    xgb_result   = crossvalidation(x_training, 2, model_name='xgb_regressor', model=model_xgb, verbose=False )\n",
    "    final_result = pd.concat([final_result, xgb_result])'''\n",
    "\n",
    "\n",
    "\n"
   ]
  },
  {
   "cell_type": "code",
   "execution_count": 73,
   "id": "eb1b4f23",
   "metadata": {
    "hidden": true
   },
   "outputs": [
    {
     "data": {
      "text/html": [
       "<div>\n",
       "<style scoped>\n",
       "    .dataframe tbody tr th:only-of-type {\n",
       "        vertical-align: middle;\n",
       "    }\n",
       "\n",
       "    .dataframe tbody tr th {\n",
       "        vertical-align: top;\n",
       "    }\n",
       "\n",
       "    .dataframe thead th {\n",
       "        text-align: right;\n",
       "    }\n",
       "</style>\n",
       "<table border=\"1\" class=\"dataframe\">\n",
       "  <thead>\n",
       "    <tr style=\"text-align: right;\">\n",
       "      <th></th>\n",
       "      <th>model_name</th>\n",
       "      <th>MAE</th>\n",
       "      <th>MAPE</th>\n",
       "      <th>RMSE</th>\n",
       "    </tr>\n",
       "  </thead>\n",
       "  <tbody>\n",
       "    <tr>\n",
       "      <th>0</th>\n",
       "      <td>Xgboost</td>\n",
       "      <td>766.467899</td>\n",
       "      <td>0.115685</td>\n",
       "      <td>1098.067772</td>\n",
       "    </tr>\n",
       "  </tbody>\n",
       "</table>\n",
       "</div>"
      ],
      "text/plain": [
       "  model_name         MAE      MAPE         RMSE\n",
       "0    Xgboost  766.467899  0.115685  1098.067772"
      ]
     },
     "execution_count": 73,
     "metadata": {},
     "output_type": "execute_result"
    }
   ],
   "source": [
    "model_xgb_tunned  = xgb.XGBRegressor(objective         = 'reg:squarederror',\n",
    "                                     n_estimators       = param_tuned['n_estimators'],\n",
    "                                     eta                = param_tuned['eta'],\n",
    "                                     colsample_bytree   = param_tuned[\"colsample_bytree\"],\n",
    "                                     max_depth          = param_tuned['max_depth'], \n",
    "                                     subsample          = param_tuned['subsample'],\n",
    "                                     min_child_weight   = param_tuned['min_child_weight']).fit(x_train, y_train)\n",
    "\n",
    "predict_xgb_tunned = model_xgb_tunned.predict(x_test)\n",
    "\n",
    "xgb_performance = ml_error('Xgboost', np.expm1(y_test), np.expm1(predict_xgb_tunned))\n",
    "\n",
    "xgb_performance\n"
   ]
  },
  {
   "cell_type": "code",
   "execution_count": 95,
   "id": "2c0b3545",
   "metadata": {
    "hidden": true
   },
   "outputs": [
    {
     "data": {
      "text/plain": [
       "569.0000000000002"
      ]
     },
     "execution_count": 95,
     "metadata": {},
     "output_type": "execute_result"
    }
   ],
   "source": [
    "min(np.expm1(y_test))"
   ]
  },
  {
   "cell_type": "code",
   "execution_count": 96,
   "id": "a6dc5ac7",
   "metadata": {
    "hidden": true
   },
   "outputs": [
    {
     "data": {
      "text/plain": [
       "41550.99999999998"
      ]
     },
     "execution_count": 96,
     "metadata": {},
     "output_type": "execute_result"
    }
   ],
   "source": [
    "max(np.expm1(y_test))"
   ]
  },
  {
   "cell_type": "markdown",
   "id": "7ee18e81",
   "metadata": {
    "heading_collapsed": true
   },
   "source": [
    "# Understand model performance and its business impact"
   ]
  },
  {
   "cell_type": "code",
   "execution_count": 62,
   "id": "2d0e153a",
   "metadata": {
    "hidden": true
   },
   "outputs": [],
   "source": [
    "df7 = X_test[boruta_all]"
   ]
  },
  {
   "cell_type": "code",
   "execution_count": 79,
   "id": "a975567e",
   "metadata": {
    "hidden": true
   },
   "outputs": [
    {
     "name": "stderr",
     "output_type": "stream",
     "text": [
      "/tmp/ipykernel_20341/1781647527.py:2: SettingWithCopyWarning: \n",
      "A value is trying to be set on a copy of a slice from a DataFrame.\n",
      "Try using .loc[row_indexer,col_indexer] = value instead\n",
      "\n",
      "See the caveats in the documentation: https://pandas.pydata.org/pandas-docs/stable/user_guide/indexing.html#returning-a-view-versus-a-copy\n",
      "  df7.sales = np.expm1(df7.sales)\n",
      "/tmp/ipykernel_20341/1781647527.py:4: SettingWithCopyWarning: \n",
      "A value is trying to be set on a copy of a slice from a DataFrame.\n",
      "Try using .loc[row_indexer,col_indexer] = value instead\n",
      "\n",
      "See the caveats in the documentation: https://pandas.pydata.org/pandas-docs/stable/user_guide/indexing.html#returning-a-view-versus-a-copy\n",
      "  df7['prediction'] = np.expm1(predict_xgb_tunned)\n"
     ]
    }
   ],
   "source": [
    "# rescaling back to original values\n",
    "df7.sales = np.expm1(df7.sales)\n",
    "df7['prediction'] = np.expm1(predict_xgb_tunned)"
   ]
  },
  {
   "cell_type": "code",
   "execution_count": 127,
   "id": "8ba5b5b4",
   "metadata": {
    "hidden": true
   },
   "outputs": [],
   "source": [
    "from sklearn.metrics import mean_absolute_error\n",
    "from sklearn.metrics import mean_absolute_percentage_error\n",
    "#sum of predictions \n",
    "\n",
    "df7_1 = df7[['store', 'prediction']].groupby('store').sum().reset_index()\n",
    "\n",
    "#Mae and MAPE\n",
    "\n",
    "##mae\n",
    "df7_aux1 = df7[['store', 'sales', 'prediction']].groupby('store').apply(lambda x: mean_absolute_error(x['sales'], x['prediction'])).reset_index().rename(columns = {0: 'MAE'})\n",
    "##mape\n",
    "df7_aux2 = df7[['store', 'sales', 'prediction']].groupby('store').apply(lambda x: mean_absolute_percentage_error(x['sales'], x['prediction'])).reset_index().rename(columns = {0: 'MAPE'})\n",
    "\n",
    "#Merge\n",
    "\n",
    "df7_aux3 = pd.merge(df7_aux1, df7_aux2, how='inner', on='store')\n",
    "df7_2 = pd.merge(df7_1, df7_aux3, how='inner', on='store')\n",
    "\n"
   ]
  },
  {
   "cell_type": "code",
   "execution_count": 111,
   "id": "62395578",
   "metadata": {
    "hidden": true
   },
   "outputs": [],
   "source": [
    "# Scenarios"
   ]
  },
  {
   "cell_type": "code",
   "execution_count": 128,
   "id": "17da693a",
   "metadata": {
    "hidden": true
   },
   "outputs": [],
   "source": [
    "df7_2['worst_scenario'] = df7_2.prediction - df7_2.MAE\n",
    "df7_2['best_scenario']  = df7_2.prediction + df7_2.MAE\n",
    "#--------------   o r g a n i z i n g   --------------\n",
    "df7_2 = df7_2[['store','prediction', 'worst_scenario','best_scenario','MAE','MAPE']]"
   ]
  },
  {
   "cell_type": "code",
   "execution_count": 129,
   "id": "59e28f8b",
   "metadata": {
    "hidden": true
   },
   "outputs": [],
   "source": [
    "df7_2.worst_scenario = df7_2.worst_scenario.apply(lambda x: round(x, 2))\n",
    "df7_2.prediction     = df7_2.prediction.apply(lambda x: round(x, 2))\n",
    "df7_2.best_scenario  = df7_2.best_scenario.apply(lambda x: round(x, 2))\n",
    "df7_2.MAE            = df7_2.MAE.apply(lambda x: round(x, 2))\n",
    "df7_2.MAPE           = df7_2.MAPE.apply(lambda x: round(x, 2))"
   ]
  },
  {
   "cell_type": "code",
   "execution_count": 132,
   "id": "738b9feb",
   "metadata": {
    "hidden": true
   },
   "outputs": [
    {
     "data": {
      "text/html": [
       "<div>\n",
       "<style scoped>\n",
       "    .dataframe tbody tr th:only-of-type {\n",
       "        vertical-align: middle;\n",
       "    }\n",
       "\n",
       "    .dataframe tbody tr th {\n",
       "        vertical-align: top;\n",
       "    }\n",
       "\n",
       "    .dataframe thead th {\n",
       "        text-align: right;\n",
       "    }\n",
       "</style>\n",
       "<table border=\"1\" class=\"dataframe\">\n",
       "  <thead>\n",
       "    <tr style=\"text-align: right;\">\n",
       "      <th></th>\n",
       "      <th>store</th>\n",
       "      <th>prediction</th>\n",
       "      <th>worst_scenario</th>\n",
       "      <th>best_scenario</th>\n",
       "      <th>MAE</th>\n",
       "      <th>MAPE</th>\n",
       "    </tr>\n",
       "  </thead>\n",
       "  <tbody>\n",
       "    <tr>\n",
       "      <th>0</th>\n",
       "      <td>1</td>\n",
       "      <td>168455.83</td>\n",
       "      <td>168153.36</td>\n",
       "      <td>168758.30</td>\n",
       "      <td>302.47</td>\n",
       "      <td>0.07</td>\n",
       "    </tr>\n",
       "    <tr>\n",
       "      <th>1</th>\n",
       "      <td>2</td>\n",
       "      <td>179966.69</td>\n",
       "      <td>179542.13</td>\n",
       "      <td>180391.24</td>\n",
       "      <td>424.55</td>\n",
       "      <td>0.09</td>\n",
       "    </tr>\n",
       "    <tr>\n",
       "      <th>2</th>\n",
       "      <td>3</td>\n",
       "      <td>270928.09</td>\n",
       "      <td>270225.82</td>\n",
       "      <td>271630.36</td>\n",
       "      <td>702.27</td>\n",
       "      <td>0.10</td>\n",
       "    </tr>\n",
       "    <tr>\n",
       "      <th>3</th>\n",
       "      <td>4</td>\n",
       "      <td>343277.69</td>\n",
       "      <td>342360.00</td>\n",
       "      <td>344195.37</td>\n",
       "      <td>917.68</td>\n",
       "      <td>0.09</td>\n",
       "    </tr>\n",
       "    <tr>\n",
       "      <th>4</th>\n",
       "      <td>5</td>\n",
       "      <td>177988.69</td>\n",
       "      <td>177527.15</td>\n",
       "      <td>178450.22</td>\n",
       "      <td>461.53</td>\n",
       "      <td>0.11</td>\n",
       "    </tr>\n",
       "    <tr>\n",
       "      <th>...</th>\n",
       "      <td>...</td>\n",
       "      <td>...</td>\n",
       "      <td>...</td>\n",
       "      <td>...</td>\n",
       "      <td>...</td>\n",
       "      <td>...</td>\n",
       "    </tr>\n",
       "    <tr>\n",
       "      <th>1110</th>\n",
       "      <td>1111</td>\n",
       "      <td>183570.61</td>\n",
       "      <td>182912.58</td>\n",
       "      <td>184228.64</td>\n",
       "      <td>658.03</td>\n",
       "      <td>0.15</td>\n",
       "    </tr>\n",
       "    <tr>\n",
       "      <th>1111</th>\n",
       "      <td>1112</td>\n",
       "      <td>339938.91</td>\n",
       "      <td>338923.08</td>\n",
       "      <td>340954.74</td>\n",
       "      <td>1015.83</td>\n",
       "      <td>0.12</td>\n",
       "    </tr>\n",
       "    <tr>\n",
       "      <th>1112</th>\n",
       "      <td>1113</td>\n",
       "      <td>253714.25</td>\n",
       "      <td>253106.54</td>\n",
       "      <td>254321.96</td>\n",
       "      <td>607.71</td>\n",
       "      <td>0.09</td>\n",
       "    </tr>\n",
       "    <tr>\n",
       "      <th>1113</th>\n",
       "      <td>1114</td>\n",
       "      <td>791828.00</td>\n",
       "      <td>790005.26</td>\n",
       "      <td>793650.74</td>\n",
       "      <td>1822.74</td>\n",
       "      <td>0.08</td>\n",
       "    </tr>\n",
       "    <tr>\n",
       "      <th>1114</th>\n",
       "      <td>1115</td>\n",
       "      <td>258620.02</td>\n",
       "      <td>258077.16</td>\n",
       "      <td>259162.87</td>\n",
       "      <td>542.85</td>\n",
       "      <td>0.08</td>\n",
       "    </tr>\n",
       "  </tbody>\n",
       "</table>\n",
       "<p>1115 rows × 6 columns</p>\n",
       "</div>"
      ],
      "text/plain": [
       "      store  prediction  worst_scenario  best_scenario      MAE  MAPE\n",
       "0         1   168455.83       168153.36      168758.30   302.47  0.07\n",
       "1         2   179966.69       179542.13      180391.24   424.55  0.09\n",
       "2         3   270928.09       270225.82      271630.36   702.27  0.10\n",
       "3         4   343277.69       342360.00      344195.37   917.68  0.09\n",
       "4         5   177988.69       177527.15      178450.22   461.53  0.11\n",
       "...     ...         ...             ...            ...      ...   ...\n",
       "1110   1111   183570.61       182912.58      184228.64   658.03  0.15\n",
       "1111   1112   339938.91       338923.08      340954.74  1015.83  0.12\n",
       "1112   1113   253714.25       253106.54      254321.96   607.71  0.09\n",
       "1113   1114   791828.00       790005.26      793650.74  1822.74  0.08\n",
       "1114   1115   258620.02       258077.16      259162.87   542.85  0.08\n",
       "\n",
       "[1115 rows x 6 columns]"
      ]
     },
     "execution_count": 132,
     "metadata": {},
     "output_type": "execute_result"
    }
   ],
   "source": [
    "df7_2"
   ]
  },
  {
   "cell_type": "markdown",
   "id": "a921d01a",
   "metadata": {
    "hidden": true
   },
   "source": [
    "## Performance do negocio"
   ]
  },
  {
   "cell_type": "code",
   "execution_count": 140,
   "id": "13f9165d",
   "metadata": {
    "hidden": true
   },
   "outputs": [
    {
     "name": "stderr",
     "output_type": "stream",
     "text": [
      "/home/jan/miniconda3/envs/ds_prod/lib/python3.8/site-packages/seaborn/_decorators.py:36: FutureWarning: Pass the following variables as keyword args: x, y. From version 0.12, the only valid positional argument will be `data`, and passing other arguments without an explicit keyword will result in an error or misinterpretation.\n",
      "  warnings.warn(\n"
     ]
    },
    {
     "data": {
      "image/png": "[encoded data removed]",
      "text/plain": [
       "<Figure size 1080x1080 with 1 Axes>"
      ]
     },
     "metadata": {},
     "output_type": "display_data"
    }
   ],
   "source": [
    "\n",
    "sns.set_theme()\n",
    "plt.figure(figsize=[15, 10])\n",
    "sns.scatterplot(df7_2.store, df7_2.MAPE);"
   ]
  },
  {
   "cell_type": "code",
   "execution_count": 143,
   "id": "1c3c870d",
   "metadata": {
    "hidden": true
   },
   "outputs": [],
   "source": [
    "df7_2 = df7_2[['prediction','worst_scenario','best_scenario']].apply(lambda x: np.sum(x), axis=0).reset_index().rename(columns={'Index': 'Scenario', 0: 'Values'})"
   ]
  },
  {
   "cell_type": "code",
   "execution_count": 148,
   "id": "f5d65c04",
   "metadata": {
    "hidden": true
   },
   "outputs": [],
   "source": [
    "df7_2.Values = df7_2.Values.map('R$: {:,.2f}'.format)"
   ]
  },
  {
   "cell_type": "code",
   "execution_count": 149,
   "id": "86fe6047",
   "metadata": {
    "hidden": true
   },
   "outputs": [
    {
     "data": {
      "text/html": [
       "<div>\n",
       "<style scoped>\n",
       "    .dataframe tbody tr th:only-of-type {\n",
       "        vertical-align: middle;\n",
       "    }\n",
       "\n",
       "    .dataframe tbody tr th {\n",
       "        vertical-align: top;\n",
       "    }\n",
       "\n",
       "    .dataframe thead th {\n",
       "        text-align: right;\n",
       "    }\n",
       "</style>\n",
       "<table border=\"1\" class=\"dataframe\">\n",
       "  <thead>\n",
       "    <tr style=\"text-align: right;\">\n",
       "      <th></th>\n",
       "      <th>index</th>\n",
       "      <th>Values</th>\n",
       "    </tr>\n",
       "  </thead>\n",
       "  <tbody>\n",
       "    <tr>\n",
       "      <th>0</th>\n",
       "      <td>prediction</td>\n",
       "      <td>R$: 287,086,027.94</td>\n",
       "    </tr>\n",
       "    <tr>\n",
       "      <th>1</th>\n",
       "      <td>worst_scenario</td>\n",
       "      <td>R$: 286,228,337.85</td>\n",
       "    </tr>\n",
       "    <tr>\n",
       "      <th>2</th>\n",
       "      <td>best_scenario</td>\n",
       "      <td>R$: 287,943,717.75</td>\n",
       "    </tr>\n",
       "  </tbody>\n",
       "</table>\n",
       "</div>"
      ],
      "text/plain": [
       "            index              Values\n",
       "0      prediction  R$: 287,086,027.94\n",
       "1  worst_scenario  R$: 286,228,337.85\n",
       "2   best_scenario  R$: 287,943,717.75"
      ]
     },
     "execution_count": 149,
     "metadata": {},
     "output_type": "execute_result"
    }
   ],
   "source": [
    "df7_2"
   ]
  },
  {
   "cell_type": "markdown",
   "id": "91cc8923",
   "metadata": {
    "hidden": true
   },
   "source": [
    "## ML performance"
   ]
  },
  {
   "cell_type": "code",
   "execution_count": null,
   "id": "78f67bca",
   "metadata": {
    "hidden": true
   },
   "outputs": [],
   "source": []
  },
  {
   "cell_type": "code",
   "execution_count": null,
   "id": "0bb1a035",
   "metadata": {
    "hidden": true
   },
   "outputs": [],
   "source": []
  },
  {
   "cell_type": "code",
   "execution_count": null,
   "id": "419940ce",
   "metadata": {
    "hidden": true
   },
   "outputs": [],
   "source": []
  },
  {
   "cell_type": "markdown",
   "id": "b85b15e4",
   "metadata": {},
   "source": [
    "# Deploy model. \n"
   ]
  },
  {
   "cell_type": "code",
   "execution_count": null,
   "id": "5cba7119",
   "metadata": {},
   "outputs": [],
   "source": [
    "import pickle"
   ]
  },
  {
   "cell_type": "code",
   "execution_count": 87,
   "id": "c223b391",
   "metadata": {},
   "outputs": [],
   "source": [
    "pickle.dump(model_xgb_tunned, open('/home/jan/logos_stores/model_xgb_trained.pk', 'wb'))"
   ]
  },
  {
   "cell_type": "markdown",
   "id": "4d4d314d",
   "metadata": {},
   "source": [
    "### Rossman Class"
   ]
  },
  {
   "cell_type": "code",
   "execution_count": 33,
   "id": "6f00f7b1",
   "metadata": {
    "code_folding": [
     69
    ]
   },
   "outputs": [],
   "source": [
    "import pandas as pd\n",
    "import numpy as np  \n",
    "import inflection\n",
    "import math\n",
    "import datetime\n",
    "\n",
    "class Rossmann(object):\n",
    "    def __init__(self):\n",
    "        self.competition_distante_scaler =  pickle.load(open('/home/jan/logos_stores/parameter/encoding_competition_distance.pk', 'rb'))\n",
    "        self.competition_time_scaler     =  pickle.load(open('/home/jan/logos_stores/parameter/encoding_competition_time_month.pk','rb'))\n",
    "        self.promo_time_scaler           =  pickle.load(open('/home/jan/logos_stores/parameter/encoding_promo_time_week.pk', 'rb'))\n",
    "        self.time_year                   =  pickle.load(open('/home/jan/logos_stores/parameter/encoding_year_scaler.pk', 'rb'))\n",
    "        self.store_type                  =  pickle.load(open('/home/jan/logos_stores/parameter/encoding_store_type.pk', \"rb\" ))\n",
    "    \n",
    "    def data_cleaning(self, df1_copy):\n",
    "        \n",
    "        ## 1.1 data cleaning\n",
    "        colunas = ['Store', 'DayOfWeek', 'Date', 'Open', 'Promo',\n",
    "                'StateHoliday', 'SchoolHoliday', 'StoreType', 'Assortment',\n",
    "                'CompetitionDistance', 'CompetitionOpenSinceMonth',\n",
    "               'CompetitionOpenSinceYear', 'Promo2', 'Promo2SinceWeek',\n",
    "               'Promo2SinceYear', 'PromoInterval']\n",
    "\n",
    "        snakecase        = lambda x: inflection.underscore(x)\n",
    "        cols_new         = list(map(snakecase, colunas))\n",
    "        df1_copy.columns = cols_new\n",
    "\n",
    "        df1_copy.date = pd.to_datetime(df1_copy.date)\n",
    "\n",
    "\n",
    "    ### Fillout NA\n",
    "\n",
    "        df1_copy['competition_open_since_year']\n",
    "\n",
    "        #CompetitionDistance \n",
    "        df1_copy['competition_distance'] = df1_copy['competition_distance'].apply(lambda x: 200000 if pd.isnull(x) else x)\n",
    "\n",
    "        #CompetitionOpenSinceMonth\n",
    "        df1_copy['competition_open_since_month'] = df1_copy.apply(lambda x: x['date'].month if math.isnan(x['competition_open_since_month']) else x['competition_open_since_month'], axis=1)\n",
    "\n",
    "        #CompetitionOpenSinceYear \n",
    "        df1_copy['competition_open_since_year'] = df1_copy.apply(lambda x: x['date'].year if math.isnan(x['competition_open_since_year']) else x['competition_open_since_year'], axis=1)\n",
    "\n",
    "\n",
    "        #Promo2SinceWeek \n",
    "        df1_copy['promo2_since_week'] = df1_copy.apply(lambda x: x['date'].week if math.isnan(x['promo2_since_week']) else x['promo2_since_week'], axis=1)\n",
    "\n",
    "        #Promo2SinceYear\n",
    "        df1_copy['promo2_since_year'] = df1_copy.apply(lambda x: x['date'].year if math.isnan(x['promo2_since_year']) else x['promo2_since_year'], axis=1)\n",
    "\n",
    "        #PromoInterval\n",
    "        month_map = {1: 'Jan', 2: 'Feb', 3:'Mar', 4:'Apr', 5:'May', 6:'Jun', 7:'Jul', 8:'Aug', 9:'Sep', 10:'Oct', 11:'Nov', 12:'Dec'}\n",
    "\n",
    "        df1_copy.fillna(0, inplace=True)\n",
    "\n",
    "        df1_copy['month_map']  = df1_copy['date'].dt.month.map(month_map)\n",
    "\n",
    "        df1_copy['is_promo']   = df1_copy[['promo_interval', 'month_map']].apply(lambda x: 0 if x['promo_interval'] == 0 else 1 if x['month_map'] in x['promo_interval'] else 0, axis=1)\n",
    "\n",
    "\n",
    "        ## Change Types\n",
    "\n",
    "        df1_copy['competition_open_since_month'] = df1_copy['competition_open_since_month'].astype( int )\n",
    "        df1_copy['competition_open_since_year'] = df1_copy['competition_open_since_year'].astype( int )\n",
    "        df1_copy['promo2_since_week'] = df1_copy['promo2_since_week'].astype( int )\n",
    "        df1_copy['promo2_since_year'] = df1_copy['promo2_since_year'].astype( int )\n",
    "        \n",
    "        return df1\n",
    "    \n",
    "    def feature_engineering(self, df2):\n",
    "    \n",
    "            #year\n",
    "        df2['year']         = df2['date'].dt.year\n",
    "\n",
    "        #Month\n",
    "        df2['month']        = df2['date'].dt.month\n",
    "\n",
    "        #Day\n",
    "        df2['day']          = df2['date'].dt.day\n",
    "\n",
    "        #Week of Year\n",
    "        df2['week_of_year'] = df2['date'].dt.isocalendar().week\n",
    "\n",
    "        #Year week\n",
    "        df2['year_week']    = df2['date'].dt.strftime( '%Y-%W')\n",
    "\n",
    "        #Competition since\n",
    "        df2.competition_open_since_year  =  df2.competition_open_since_year.astype(int)\n",
    "        df2.competition_open_since_month =  df2.competition_open_since_month.astype(int)\n",
    "        df2['competition_since']         = df2.apply(lambda x: datetime.datetime(year=x['competition_open_since_year'], \n",
    "                                                                         month=x['competition_open_since_month'], \n",
    "                                                                         day=1), axis=1)\n",
    "        df2['competition_time_month']    = ( ( df2['date'] - df2['competition_since'] ) /30 ).apply(lambda x: x.days).astype(int)\n",
    "\n",
    "        #promo since\n",
    "        df2['promo_since']     = df2['promo2_since_year'].astype( str ) + '-' + df2['promo2_since_week'].astype( str )\n",
    "        df2['promo_since']     = df2['promo_since'].apply( lambda x: datetime.datetime.strptime( x + '-1', '%Y-%W-%w' ) - datetime.timedelta( days=7 ) )\n",
    "        df2['promo_time_week'] = ( ( df2['date'] - df2['promo_since'] )/7 ).apply( lambda x: x.days ).astype( int )\n",
    "\n",
    "\n",
    "        #assortment\n",
    "\n",
    "        df2 ['assortment']    = df2['assortment'].apply(lambda x: 'basic' if x == 'a' else 'extra' if x == 'b' else 'extended')\n",
    "        #state holiday \n",
    "\n",
    "        df2 ['state_holiday'] = df2['state_holiday'].apply(lambda x: 'Public holiday' if x == 'a' else 'Easter holiday' if x == 'b' else 'Christmas' if x == 'c' else 'Regular day')\n",
    "\n",
    "        #filtragem das linhas\n",
    "        df2 = df2 [df2['open'] != 0]\n",
    "\n",
    "        ## Seleção de colunas\n",
    "\n",
    "        cols_drop = ['month_map','promo_interval','open']\n",
    "        df2 = df2.drop(cols_drop, axis=1)\n",
    "        \n",
    "        return df2\n",
    "\n",
    "    def data_preparation(self, df5):\n",
    "        # competition \n",
    "        df5['competition_distance'] = self.competition_distante_scaler.transform(df5[['competition_distance']].values)\n",
    "        \n",
    "        # competition time month \n",
    "        df5.competition_time_month = self.competition_time_scaler.transform(df5[['competition_time_month']].values)\n",
    "\n",
    "        # promo time week\n",
    "        df5['promo_time_week'] = self.promo_time_scaler.transform(df5[['promo_time_week']].values)\n",
    "\n",
    "        # year\n",
    "        df5['year'] = self.time_year.transform(df5[['year']].values)\n",
    "\n",
    "        # state_holiday -> One Hot Encoding\n",
    "        df5 = pd.get_dummies(df5, prefix = ['state_holiday'], columns=['state_holiday'])\n",
    "\n",
    "        #-----------------------------------\n",
    "\n",
    "        #store_type     -> label encoding\n",
    "        df5.store_type = self.store_type.transform(df5.store_type)\n",
    "        \n",
    "        #-----------------------------------\n",
    "\n",
    "        #assortment    -> ordinal encoding\n",
    "        assortment_dict = {'basic':1,\n",
    "                           'extra': 2,\n",
    "                           'extended': 3}\n",
    "        df5.assortment = df5.assortment.map(assortment_dict)\n",
    "\n",
    "        ### Transformação de natureza cíclica\n",
    "\n",
    "        #day_of_week\n",
    "        df5['day_of_week_sin'] = df5['day_of_week'].apply(lambda x: np.sin (x * (2. * np.pi/7)))\n",
    "        df5['day_of_week_cos'] = df5['day_of_week'].apply(lambda x: np.cos (x * (2. * np.pi/7)))\n",
    "\n",
    "        #------------------------------------------------------------------------\n",
    "\n",
    "        #month\n",
    "        df5['month_sin'] = df5['month'].apply(lambda x: np.sin (x * (2. * np.pi/12)))\n",
    "        df5['month_cos'] = df5['month'].apply(lambda x: np.cos (x * (2. * np.pi/12)))\n",
    "\n",
    "        #------------------------------------------------------------------------\n",
    "\n",
    "        #week_of_year\n",
    "        df5['week_year_sin'] = df5['week_of_year'].apply(lambda x: np.sin (x * (2. * np.pi/52)))\n",
    "        df5['week_year_cos'] = df5['week_of_year'].apply(lambda x: np.cos (x * (2. * np.pi/52)))\n",
    "\n",
    "        #------------------------------------------------------------------------\n",
    "\n",
    "        #Day\n",
    "        df5['day_sin'] = df5['day'].apply(lambda x: np.sin (x * (2. * np.pi/30)))\n",
    "        df5['day_cos'] = df5['day'].apply(lambda x: np.cos (x * (2. * np.pi/30)))\n",
    "\n",
    "        #------------------------------------------------------------------------\n",
    "        cols_selected = ['store', 'promo', 'store_type', 'assortment', 'competition_distance', \n",
    "                         'competition_open_since_month', 'competition_open_since_year', 'promo2',\n",
    "                         'promo2_since_week', 'promo2_since_year', 'competition_time_month', 'promo_time_week',\n",
    "                         'day_of_week_sin', 'day_of_week_cos', 'month_sin','month_cos', 'day_cos', 'week_year_sin',\n",
    "                         'week_year_cos']\n",
    "\n",
    "\n",
    "        return df5[cols_selected]\n",
    "    \n",
    "    def prediction(self, model, original_data, test_data):\n",
    "        \n",
    "        pred = model.predict(test_data)\n",
    "        \n",
    "        original_data['prediction'] = np.expm1(pred)\n",
    "        \n",
    "        return original_data.to_json(orient='records', data_format = 'iso')\n",
    "        \n",
    "        "
   ]
  },
  {
   "cell_type": "markdown",
   "id": "442afbe0",
   "metadata": {},
   "source": [
    "### API handler"
   ]
  },
  {
   "cell_type": "code",
   "execution_count": 10,
   "id": "6d707537",
   "metadata": {},
   "outputs": [
    {
     "ename": "SyntaxError",
     "evalue": "invalid syntax (2295502230.py, line 30)",
     "output_type": "error",
     "traceback": [
      "\u001b[0;36m  File \u001b[0;32m\"/tmp/ipykernel_7697/2295502230.py\"\u001b[0;36m, line \u001b[0;32m30\u001b[0m\n\u001b[0;31m    else:\u001b[0m\n\u001b[0m    ^\u001b[0m\n\u001b[0;31mSyntaxError\u001b[0m\u001b[0;31m:\u001b[0m invalid syntax\n"
     ]
    }
   ],
   "source": [
    "import pickle\n",
    "import pandas as pd\n",
    "\n",
    "from flask             import Flask, request, Response\n",
    "from rossmann.rossmann  import Rossmann\n",
    "\n",
    "\n",
    "app = Flask(__name__)\n",
    "\n",
    "model = pickle.load(open('/home/jan/logos_stores/model/model_xgb_trained.pk', 'rb'))\n",
    "@app.route('/rossmann/predict', methods=['POST'])\n",
    "\n",
    "def rossmann_predict():\n",
    "    test_json = request.get_json()\n",
    "    \n",
    "    if test_json:\n",
    "        if isinstance(test_json, dict):\n",
    "            test_raw = pd.DataFrame(test_json, index=[0])\n",
    "\n",
    "    else:\n",
    "        test_raw = pd.DataFrame(test_json, columns = test_json[0].keys())\n",
    "\n",
    "        pipeline = Rossmann()\n",
    "        #data_cleaning\n",
    "        df1 = pipeline.data_cleaning(test_raw)\n",
    "        df2 = pipeline.feature_engineering(df1)\n",
    "        df3 = pipeline.data_preparation(df2)\n",
    "        df4_answer = pipeline.prediction(model, test_raw, df3)\n",
    "        \n",
    "\n",
    "    else:\n",
    "        Response('{}', status = 200, mimetype='application/json')\n",
    "        return df4_answer\n",
    "\n",
    "\n",
    "\n",
    "if '__name__' == '__main__':\n",
    "    app.run('0.0.0.0')\n",
    "\n"
   ]
  },
  {
   "cell_type": "markdown",
   "id": "2d375ee1",
   "metadata": {},
   "source": [
    "### API tester"
   ]
  },
  {
   "cell_type": "code",
   "execution_count": 3,
   "id": "2748cdf8",
   "metadata": {},
   "outputs": [],
   "source": [
    "df10 = pd.read_csv('/home/jan/logos_stores/data/raw/test.csv')\n",
    "df_store = pd.read_csv('/home/jan/logos_stores/data/raw/store.csv')\n",
    "df_test = pd.merge(df10 , df_store, how='left', on='Store')\n",
    "\n",
    "\n",
    "#chossing store for prediction\n",
    "df_test = df_test[df_test.Store == 22]\n",
    "\n",
    "#remove closed days\n",
    "df_test = df_test[(df_test.Open != 0) & (~df_test.Open.isnull())]\n",
    "#df_test = df_test[~df_test.Open.isnull()]\n",
    "df_test = df_test.drop('Id', axis=1)\n",
    "\n",
    "\n"
   ]
  },
  {
   "cell_type": "code",
   "execution_count": 4,
   "id": "9409f0aa",
   "metadata": {},
   "outputs": [],
   "source": [
    "data = json.dumps(df_test.to_dict(orient='records'))"
   ]
  },
  {
   "cell_type": "code",
   "execution_count": 5,
   "id": "212be6a7",
   "metadata": {},
   "outputs": [
    {
     "ename": "ConnectionError",
     "evalue": "HTTPConnectionPool(host='0.0.0.0', port=5000): Max retries exceeded with url: /rossmann/predict (Caused by NewConnectionError('<urllib3.connection.HTTPConnection object at 0x7fbb6afc6850>: Failed to establish a new connection: [Errno 111] Connection refused'))",
     "output_type": "error",
     "traceback": [
      "\u001b[0;31m---------------------------------------------------------------------------\u001b[0m",
      "\u001b[0;31mConnectionRefusedError\u001b[0m                    Traceback (most recent call last)",
      "\u001b[0;32m~/miniconda3/envs/ds_prod/lib/python3.8/site-packages/urllib3/connection.py\u001b[0m in \u001b[0;36m_new_conn\u001b[0;34m(self)\u001b[0m\n\u001b[1;32m    173\u001b[0m         \u001b[0;32mtry\u001b[0m\u001b[0;34m:\u001b[0m\u001b[0;34m\u001b[0m\u001b[0;34m\u001b[0m\u001b[0m\n\u001b[0;32m--> 174\u001b[0;31m             conn = connection.create_connection(\n\u001b[0m\u001b[1;32m    175\u001b[0m                 \u001b[0;34m(\u001b[0m\u001b[0mself\u001b[0m\u001b[0;34m.\u001b[0m\u001b[0m_dns_host\u001b[0m\u001b[0;34m,\u001b[0m \u001b[0mself\u001b[0m\u001b[0;34m.\u001b[0m\u001b[0mport\u001b[0m\u001b[0;34m)\u001b[0m\u001b[0;34m,\u001b[0m \u001b[0mself\u001b[0m\u001b[0;34m.\u001b[0m\u001b[0mtimeout\u001b[0m\u001b[0;34m,\u001b[0m \u001b[0;34m**\u001b[0m\u001b[0mextra_kw\u001b[0m\u001b[0;34m\u001b[0m\u001b[0;34m\u001b[0m\u001b[0m\n",
      "\u001b[0;32m~/miniconda3/envs/ds_prod/lib/python3.8/site-packages/urllib3/util/connection.py\u001b[0m in \u001b[0;36mcreate_connection\u001b[0;34m(address, timeout, source_address, socket_options)\u001b[0m\n\u001b[1;32m     94\u001b[0m     \u001b[0;32mif\u001b[0m \u001b[0merr\u001b[0m \u001b[0;32mis\u001b[0m \u001b[0;32mnot\u001b[0m \u001b[0;32mNone\u001b[0m\u001b[0;34m:\u001b[0m\u001b[0;34m\u001b[0m\u001b[0;34m\u001b[0m\u001b[0m\n\u001b[0;32m---> 95\u001b[0;31m         \u001b[0;32mraise\u001b[0m \u001b[0merr\u001b[0m\u001b[0;34m\u001b[0m\u001b[0;34m\u001b[0m\u001b[0m\n\u001b[0m\u001b[1;32m     96\u001b[0m \u001b[0;34m\u001b[0m\u001b[0m\n",
      "\u001b[0;32m~/miniconda3/envs/ds_prod/lib/python3.8/site-packages/urllib3/util/connection.py\u001b[0m in \u001b[0;36mcreate_connection\u001b[0;34m(address, timeout, source_address, socket_options)\u001b[0m\n\u001b[1;32m     84\u001b[0m                 \u001b[0msock\u001b[0m\u001b[0;34m.\u001b[0m\u001b[0mbind\u001b[0m\u001b[0;34m(\u001b[0m\u001b[0msource_address\u001b[0m\u001b[0;34m)\u001b[0m\u001b[0;34m\u001b[0m\u001b[0;34m\u001b[0m\u001b[0m\n\u001b[0;32m---> 85\u001b[0;31m             \u001b[0msock\u001b[0m\u001b[0;34m.\u001b[0m\u001b[0mconnect\u001b[0m\u001b[0;34m(\u001b[0m\u001b[0msa\u001b[0m\u001b[0;34m)\u001b[0m\u001b[0;34m\u001b[0m\u001b[0;34m\u001b[0m\u001b[0m\n\u001b[0m\u001b[1;32m     86\u001b[0m             \u001b[0;32mreturn\u001b[0m \u001b[0msock\u001b[0m\u001b[0;34m\u001b[0m\u001b[0;34m\u001b[0m\u001b[0m\n",
      "\u001b[0;31mConnectionRefusedError\u001b[0m: [Errno 111] Connection refused",
      "\nDuring handling of the above exception, another exception occurred:\n",
      "\u001b[0;31mNewConnectionError\u001b[0m                        Traceback (most recent call last)",
      "\u001b[0;32m~/miniconda3/envs/ds_prod/lib/python3.8/site-packages/urllib3/connectionpool.py\u001b[0m in \u001b[0;36murlopen\u001b[0;34m(self, method, url, body, headers, retries, redirect, assert_same_host, timeout, pool_timeout, release_conn, chunked, body_pos, **response_kw)\u001b[0m\n\u001b[1;32m    702\u001b[0m             \u001b[0;31m# Make the request on the httplib connection object.\u001b[0m\u001b[0;34m\u001b[0m\u001b[0;34m\u001b[0m\u001b[0;34m\u001b[0m\u001b[0m\n\u001b[0;32m--> 703\u001b[0;31m             httplib_response = self._make_request(\n\u001b[0m\u001b[1;32m    704\u001b[0m                 \u001b[0mconn\u001b[0m\u001b[0;34m,\u001b[0m\u001b[0;34m\u001b[0m\u001b[0;34m\u001b[0m\u001b[0m\n",
      "\u001b[0;32m~/miniconda3/envs/ds_prod/lib/python3.8/site-packages/urllib3/connectionpool.py\u001b[0m in \u001b[0;36m_make_request\u001b[0;34m(self, conn, method, url, timeout, chunked, **httplib_request_kw)\u001b[0m\n\u001b[1;32m    397\u001b[0m             \u001b[0;32melse\u001b[0m\u001b[0;34m:\u001b[0m\u001b[0;34m\u001b[0m\u001b[0;34m\u001b[0m\u001b[0m\n\u001b[0;32m--> 398\u001b[0;31m                 \u001b[0mconn\u001b[0m\u001b[0;34m.\u001b[0m\u001b[0mrequest\u001b[0m\u001b[0;34m(\u001b[0m\u001b[0mmethod\u001b[0m\u001b[0;34m,\u001b[0m \u001b[0murl\u001b[0m\u001b[0;34m,\u001b[0m \u001b[0;34m**\u001b[0m\u001b[0mhttplib_request_kw\u001b[0m\u001b[0;34m)\u001b[0m\u001b[0;34m\u001b[0m\u001b[0;34m\u001b[0m\u001b[0m\n\u001b[0m\u001b[1;32m    399\u001b[0m \u001b[0;34m\u001b[0m\u001b[0m\n",
      "\u001b[0;32m~/miniconda3/envs/ds_prod/lib/python3.8/site-packages/urllib3/connection.py\u001b[0m in \u001b[0;36mrequest\u001b[0;34m(self, method, url, body, headers)\u001b[0m\n\u001b[1;32m    238\u001b[0m             \u001b[0mheaders\u001b[0m\u001b[0;34m[\u001b[0m\u001b[0;34m\"User-Agent\"\u001b[0m\u001b[0;34m]\u001b[0m \u001b[0;34m=\u001b[0m \u001b[0m_get_default_user_agent\u001b[0m\u001b[0;34m(\u001b[0m\u001b[0;34m)\u001b[0m\u001b[0;34m\u001b[0m\u001b[0;34m\u001b[0m\u001b[0m\n\u001b[0;32m--> 239\u001b[0;31m         \u001b[0msuper\u001b[0m\u001b[0;34m(\u001b[0m\u001b[0mHTTPConnection\u001b[0m\u001b[0;34m,\u001b[0m \u001b[0mself\u001b[0m\u001b[0;34m)\u001b[0m\u001b[0;34m.\u001b[0m\u001b[0mrequest\u001b[0m\u001b[0;34m(\u001b[0m\u001b[0mmethod\u001b[0m\u001b[0;34m,\u001b[0m \u001b[0murl\u001b[0m\u001b[0;34m,\u001b[0m \u001b[0mbody\u001b[0m\u001b[0;34m=\u001b[0m\u001b[0mbody\u001b[0m\u001b[0;34m,\u001b[0m \u001b[0mheaders\u001b[0m\u001b[0;34m=\u001b[0m\u001b[0mheaders\u001b[0m\u001b[0;34m)\u001b[0m\u001b[0;34m\u001b[0m\u001b[0;34m\u001b[0m\u001b[0m\n\u001b[0m\u001b[1;32m    240\u001b[0m \u001b[0;34m\u001b[0m\u001b[0m\n",
      "\u001b[0;32m~/miniconda3/envs/ds_prod/lib/python3.8/http/client.py\u001b[0m in \u001b[0;36mrequest\u001b[0;34m(self, method, url, body, headers, encode_chunked)\u001b[0m\n\u001b[1;32m   1254\u001b[0m         \u001b[0;34m\"\"\"Send a complete request to the server.\"\"\"\u001b[0m\u001b[0;34m\u001b[0m\u001b[0;34m\u001b[0m\u001b[0m\n\u001b[0;32m-> 1255\u001b[0;31m         \u001b[0mself\u001b[0m\u001b[0;34m.\u001b[0m\u001b[0m_send_request\u001b[0m\u001b[0;34m(\u001b[0m\u001b[0mmethod\u001b[0m\u001b[0;34m,\u001b[0m \u001b[0murl\u001b[0m\u001b[0;34m,\u001b[0m \u001b[0mbody\u001b[0m\u001b[0;34m,\u001b[0m \u001b[0mheaders\u001b[0m\u001b[0;34m,\u001b[0m \u001b[0mencode_chunked\u001b[0m\u001b[0;34m)\u001b[0m\u001b[0;34m\u001b[0m\u001b[0;34m\u001b[0m\u001b[0m\n\u001b[0m\u001b[1;32m   1256\u001b[0m \u001b[0;34m\u001b[0m\u001b[0m\n",
      "\u001b[0;32m~/miniconda3/envs/ds_prod/lib/python3.8/http/client.py\u001b[0m in \u001b[0;36m_send_request\u001b[0;34m(self, method, url, body, headers, encode_chunked)\u001b[0m\n\u001b[1;32m   1300\u001b[0m             \u001b[0mbody\u001b[0m \u001b[0;34m=\u001b[0m \u001b[0m_encode\u001b[0m\u001b[0;34m(\u001b[0m\u001b[0mbody\u001b[0m\u001b[0;34m,\u001b[0m \u001b[0;34m'body'\u001b[0m\u001b[0;34m)\u001b[0m\u001b[0;34m\u001b[0m\u001b[0;34m\u001b[0m\u001b[0m\n\u001b[0;32m-> 1301\u001b[0;31m         \u001b[0mself\u001b[0m\u001b[0;34m.\u001b[0m\u001b[0mendheaders\u001b[0m\u001b[0;34m(\u001b[0m\u001b[0mbody\u001b[0m\u001b[0;34m,\u001b[0m \u001b[0mencode_chunked\u001b[0m\u001b[0;34m=\u001b[0m\u001b[0mencode_chunked\u001b[0m\u001b[0;34m)\u001b[0m\u001b[0;34m\u001b[0m\u001b[0;34m\u001b[0m\u001b[0m\n\u001b[0m\u001b[1;32m   1302\u001b[0m \u001b[0;34m\u001b[0m\u001b[0m\n",
      "\u001b[0;32m~/miniconda3/envs/ds_prod/lib/python3.8/http/client.py\u001b[0m in \u001b[0;36mendheaders\u001b[0;34m(self, message_body, encode_chunked)\u001b[0m\n\u001b[1;32m   1249\u001b[0m             \u001b[0;32mraise\u001b[0m \u001b[0mCannotSendHeader\u001b[0m\u001b[0;34m(\u001b[0m\u001b[0;34m)\u001b[0m\u001b[0;34m\u001b[0m\u001b[0;34m\u001b[0m\u001b[0m\n\u001b[0;32m-> 1250\u001b[0;31m         \u001b[0mself\u001b[0m\u001b[0;34m.\u001b[0m\u001b[0m_send_output\u001b[0m\u001b[0;34m(\u001b[0m\u001b[0mmessage_body\u001b[0m\u001b[0;34m,\u001b[0m \u001b[0mencode_chunked\u001b[0m\u001b[0;34m=\u001b[0m\u001b[0mencode_chunked\u001b[0m\u001b[0;34m)\u001b[0m\u001b[0;34m\u001b[0m\u001b[0;34m\u001b[0m\u001b[0m\n\u001b[0m\u001b[1;32m   1251\u001b[0m \u001b[0;34m\u001b[0m\u001b[0m\n",
      "\u001b[0;32m~/miniconda3/envs/ds_prod/lib/python3.8/http/client.py\u001b[0m in \u001b[0;36m_send_output\u001b[0;34m(self, message_body, encode_chunked)\u001b[0m\n\u001b[1;32m   1009\u001b[0m         \u001b[0;32mdel\u001b[0m \u001b[0mself\u001b[0m\u001b[0;34m.\u001b[0m\u001b[0m_buffer\u001b[0m\u001b[0;34m[\u001b[0m\u001b[0;34m:\u001b[0m\u001b[0;34m]\u001b[0m\u001b[0;34m\u001b[0m\u001b[0;34m\u001b[0m\u001b[0m\n\u001b[0;32m-> 1010\u001b[0;31m         \u001b[0mself\u001b[0m\u001b[0;34m.\u001b[0m\u001b[0msend\u001b[0m\u001b[0;34m(\u001b[0m\u001b[0mmsg\u001b[0m\u001b[0;34m)\u001b[0m\u001b[0;34m\u001b[0m\u001b[0;34m\u001b[0m\u001b[0m\n\u001b[0m\u001b[1;32m   1011\u001b[0m \u001b[0;34m\u001b[0m\u001b[0m\n",
      "\u001b[0;32m~/miniconda3/envs/ds_prod/lib/python3.8/http/client.py\u001b[0m in \u001b[0;36msend\u001b[0;34m(self, data)\u001b[0m\n\u001b[1;32m    949\u001b[0m             \u001b[0;32mif\u001b[0m \u001b[0mself\u001b[0m\u001b[0;34m.\u001b[0m\u001b[0mauto_open\u001b[0m\u001b[0;34m:\u001b[0m\u001b[0;34m\u001b[0m\u001b[0;34m\u001b[0m\u001b[0m\n\u001b[0;32m--> 950\u001b[0;31m                 \u001b[0mself\u001b[0m\u001b[0;34m.\u001b[0m\u001b[0mconnect\u001b[0m\u001b[0;34m(\u001b[0m\u001b[0;34m)\u001b[0m\u001b[0;34m\u001b[0m\u001b[0;34m\u001b[0m\u001b[0m\n\u001b[0m\u001b[1;32m    951\u001b[0m             \u001b[0;32melse\u001b[0m\u001b[0;34m:\u001b[0m\u001b[0;34m\u001b[0m\u001b[0;34m\u001b[0m\u001b[0m\n",
      "\u001b[0;32m~/miniconda3/envs/ds_prod/lib/python3.8/site-packages/urllib3/connection.py\u001b[0m in \u001b[0;36mconnect\u001b[0;34m(self)\u001b[0m\n\u001b[1;32m    204\u001b[0m     \u001b[0;32mdef\u001b[0m \u001b[0mconnect\u001b[0m\u001b[0;34m(\u001b[0m\u001b[0mself\u001b[0m\u001b[0;34m)\u001b[0m\u001b[0;34m:\u001b[0m\u001b[0;34m\u001b[0m\u001b[0;34m\u001b[0m\u001b[0m\n\u001b[0;32m--> 205\u001b[0;31m         \u001b[0mconn\u001b[0m \u001b[0;34m=\u001b[0m \u001b[0mself\u001b[0m\u001b[0;34m.\u001b[0m\u001b[0m_new_conn\u001b[0m\u001b[0;34m(\u001b[0m\u001b[0;34m)\u001b[0m\u001b[0;34m\u001b[0m\u001b[0;34m\u001b[0m\u001b[0m\n\u001b[0m\u001b[1;32m    206\u001b[0m         \u001b[0mself\u001b[0m\u001b[0;34m.\u001b[0m\u001b[0m_prepare_conn\u001b[0m\u001b[0;34m(\u001b[0m\u001b[0mconn\u001b[0m\u001b[0;34m)\u001b[0m\u001b[0;34m\u001b[0m\u001b[0;34m\u001b[0m\u001b[0m\n",
      "\u001b[0;32m~/miniconda3/envs/ds_prod/lib/python3.8/site-packages/urllib3/connection.py\u001b[0m in \u001b[0;36m_new_conn\u001b[0;34m(self)\u001b[0m\n\u001b[1;32m    185\u001b[0m         \u001b[0;32mexcept\u001b[0m \u001b[0mSocketError\u001b[0m \u001b[0;32mas\u001b[0m \u001b[0me\u001b[0m\u001b[0;34m:\u001b[0m\u001b[0;34m\u001b[0m\u001b[0;34m\u001b[0m\u001b[0m\n\u001b[0;32m--> 186\u001b[0;31m             raise NewConnectionError(\n\u001b[0m\u001b[1;32m    187\u001b[0m                 \u001b[0mself\u001b[0m\u001b[0;34m,\u001b[0m \u001b[0;34m\"Failed to establish a new connection: %s\"\u001b[0m \u001b[0;34m%\u001b[0m \u001b[0me\u001b[0m\u001b[0;34m\u001b[0m\u001b[0;34m\u001b[0m\u001b[0m\n",
      "\u001b[0;31mNewConnectionError\u001b[0m: <urllib3.connection.HTTPConnection object at 0x7fbb6afc6850>: Failed to establish a new connection: [Errno 111] Connection refused",
      "\nDuring handling of the above exception, another exception occurred:\n",
      "\u001b[0;31mMaxRetryError\u001b[0m                             Traceback (most recent call last)",
      "\u001b[0;32m~/miniconda3/envs/ds_prod/lib/python3.8/site-packages/requests/adapters.py\u001b[0m in \u001b[0;36msend\u001b[0;34m(self, request, stream, timeout, verify, cert, proxies)\u001b[0m\n\u001b[1;32m    439\u001b[0m             \u001b[0;32mif\u001b[0m \u001b[0;32mnot\u001b[0m \u001b[0mchunked\u001b[0m\u001b[0;34m:\u001b[0m\u001b[0;34m\u001b[0m\u001b[0;34m\u001b[0m\u001b[0m\n\u001b[0;32m--> 440\u001b[0;31m                 resp = conn.urlopen(\n\u001b[0m\u001b[1;32m    441\u001b[0m                     \u001b[0mmethod\u001b[0m\u001b[0;34m=\u001b[0m\u001b[0mrequest\u001b[0m\u001b[0;34m.\u001b[0m\u001b[0mmethod\u001b[0m\u001b[0;34m,\u001b[0m\u001b[0;34m\u001b[0m\u001b[0;34m\u001b[0m\u001b[0m\n",
      "\u001b[0;32m~/miniconda3/envs/ds_prod/lib/python3.8/site-packages/urllib3/connectionpool.py\u001b[0m in \u001b[0;36murlopen\u001b[0;34m(self, method, url, body, headers, retries, redirect, assert_same_host, timeout, pool_timeout, release_conn, chunked, body_pos, **response_kw)\u001b[0m\n\u001b[1;32m    784\u001b[0m \u001b[0;34m\u001b[0m\u001b[0m\n\u001b[0;32m--> 785\u001b[0;31m             retries = retries.increment(\n\u001b[0m\u001b[1;32m    786\u001b[0m                 \u001b[0mmethod\u001b[0m\u001b[0;34m,\u001b[0m \u001b[0murl\u001b[0m\u001b[0;34m,\u001b[0m \u001b[0merror\u001b[0m\u001b[0;34m=\u001b[0m\u001b[0me\u001b[0m\u001b[0;34m,\u001b[0m \u001b[0m_pool\u001b[0m\u001b[0;34m=\u001b[0m\u001b[0mself\u001b[0m\u001b[0;34m,\u001b[0m \u001b[0m_stacktrace\u001b[0m\u001b[0;34m=\u001b[0m\u001b[0msys\u001b[0m\u001b[0;34m.\u001b[0m\u001b[0mexc_info\u001b[0m\u001b[0;34m(\u001b[0m\u001b[0;34m)\u001b[0m\u001b[0;34m[\u001b[0m\u001b[0;36m2\u001b[0m\u001b[0;34m]\u001b[0m\u001b[0;34m\u001b[0m\u001b[0;34m\u001b[0m\u001b[0m\n",
      "\u001b[0;32m~/miniconda3/envs/ds_prod/lib/python3.8/site-packages/urllib3/util/retry.py\u001b[0m in \u001b[0;36mincrement\u001b[0;34m(self, method, url, response, error, _pool, _stacktrace)\u001b[0m\n\u001b[1;32m    591\u001b[0m         \u001b[0;32mif\u001b[0m \u001b[0mnew_retry\u001b[0m\u001b[0;34m.\u001b[0m\u001b[0mis_exhausted\u001b[0m\u001b[0;34m(\u001b[0m\u001b[0;34m)\u001b[0m\u001b[0;34m:\u001b[0m\u001b[0;34m\u001b[0m\u001b[0;34m\u001b[0m\u001b[0m\n\u001b[0;32m--> 592\u001b[0;31m             \u001b[0;32mraise\u001b[0m \u001b[0mMaxRetryError\u001b[0m\u001b[0;34m(\u001b[0m\u001b[0m_pool\u001b[0m\u001b[0;34m,\u001b[0m \u001b[0murl\u001b[0m\u001b[0;34m,\u001b[0m \u001b[0merror\u001b[0m \u001b[0;32mor\u001b[0m \u001b[0mResponseError\u001b[0m\u001b[0;34m(\u001b[0m\u001b[0mcause\u001b[0m\u001b[0;34m)\u001b[0m\u001b[0;34m)\u001b[0m\u001b[0;34m\u001b[0m\u001b[0;34m\u001b[0m\u001b[0m\n\u001b[0m\u001b[1;32m    593\u001b[0m \u001b[0;34m\u001b[0m\u001b[0m\n",
      "\u001b[0;31mMaxRetryError\u001b[0m: HTTPConnectionPool(host='0.0.0.0', port=5000): Max retries exceeded with url: /rossmann/predict (Caused by NewConnectionError('<urllib3.connection.HTTPConnection object at 0x7fbb6afc6850>: Failed to establish a new connection: [Errno 111] Connection refused'))",
      "\nDuring handling of the above exception, another exception occurred:\n",
      "\u001b[0;31mConnectionError\u001b[0m                           Traceback (most recent call last)",
      "\u001b[0;32m/tmp/ipykernel_7697/3631990289.py\u001b[0m in \u001b[0;36m<module>\u001b[0;34m\u001b[0m\n\u001b[1;32m      9\u001b[0m \u001b[0mdata\u001b[0m \u001b[0;34m=\u001b[0m \u001b[0mdata\u001b[0m\u001b[0;34m\u001b[0m\u001b[0;34m\u001b[0m\u001b[0m\n\u001b[1;32m     10\u001b[0m \u001b[0;34m\u001b[0m\u001b[0m\n\u001b[0;32m---> 11\u001b[0;31m \u001b[0mr\u001b[0m \u001b[0;34m=\u001b[0m \u001b[0mrequests\u001b[0m\u001b[0;34m.\u001b[0m\u001b[0mpost\u001b[0m\u001b[0;34m(\u001b[0m\u001b[0murl\u001b[0m\u001b[0;34m,\u001b[0m \u001b[0mdata\u001b[0m\u001b[0;34m=\u001b[0m\u001b[0mdata\u001b[0m\u001b[0;34m,\u001b[0m \u001b[0mheaders\u001b[0m\u001b[0;34m=\u001b[0m\u001b[0mheader\u001b[0m\u001b[0;34m)\u001b[0m\u001b[0;34m\u001b[0m\u001b[0;34m\u001b[0m\u001b[0m\n\u001b[0m\u001b[1;32m     12\u001b[0m \u001b[0mprint\u001b[0m\u001b[0;34m(\u001b[0m\u001b[0;34mf'status code: {r.status_code}'\u001b[0m\u001b[0;34m)\u001b[0m\u001b[0;34m\u001b[0m\u001b[0;34m\u001b[0m\u001b[0m\n",
      "\u001b[0;32m~/miniconda3/envs/ds_prod/lib/python3.8/site-packages/requests/api.py\u001b[0m in \u001b[0;36mpost\u001b[0;34m(url, data, json, **kwargs)\u001b[0m\n\u001b[1;32m    115\u001b[0m     \"\"\"\n\u001b[1;32m    116\u001b[0m \u001b[0;34m\u001b[0m\u001b[0m\n\u001b[0;32m--> 117\u001b[0;31m     \u001b[0;32mreturn\u001b[0m \u001b[0mrequest\u001b[0m\u001b[0;34m(\u001b[0m\u001b[0;34m'post'\u001b[0m\u001b[0;34m,\u001b[0m \u001b[0murl\u001b[0m\u001b[0;34m,\u001b[0m \u001b[0mdata\u001b[0m\u001b[0;34m=\u001b[0m\u001b[0mdata\u001b[0m\u001b[0;34m,\u001b[0m \u001b[0mjson\u001b[0m\u001b[0;34m=\u001b[0m\u001b[0mjson\u001b[0m\u001b[0;34m,\u001b[0m \u001b[0;34m**\u001b[0m\u001b[0mkwargs\u001b[0m\u001b[0;34m)\u001b[0m\u001b[0;34m\u001b[0m\u001b[0;34m\u001b[0m\u001b[0m\n\u001b[0m\u001b[1;32m    118\u001b[0m \u001b[0;34m\u001b[0m\u001b[0m\n\u001b[1;32m    119\u001b[0m \u001b[0;34m\u001b[0m\u001b[0m\n",
      "\u001b[0;32m~/miniconda3/envs/ds_prod/lib/python3.8/site-packages/requests/api.py\u001b[0m in \u001b[0;36mrequest\u001b[0;34m(method, url, **kwargs)\u001b[0m\n\u001b[1;32m     59\u001b[0m     \u001b[0;31m# cases, and look like a memory leak in others.\u001b[0m\u001b[0;34m\u001b[0m\u001b[0;34m\u001b[0m\u001b[0;34m\u001b[0m\u001b[0m\n\u001b[1;32m     60\u001b[0m     \u001b[0;32mwith\u001b[0m \u001b[0msessions\u001b[0m\u001b[0;34m.\u001b[0m\u001b[0mSession\u001b[0m\u001b[0;34m(\u001b[0m\u001b[0;34m)\u001b[0m \u001b[0;32mas\u001b[0m \u001b[0msession\u001b[0m\u001b[0;34m:\u001b[0m\u001b[0;34m\u001b[0m\u001b[0;34m\u001b[0m\u001b[0m\n\u001b[0;32m---> 61\u001b[0;31m         \u001b[0;32mreturn\u001b[0m \u001b[0msession\u001b[0m\u001b[0;34m.\u001b[0m\u001b[0mrequest\u001b[0m\u001b[0;34m(\u001b[0m\u001b[0mmethod\u001b[0m\u001b[0;34m=\u001b[0m\u001b[0mmethod\u001b[0m\u001b[0;34m,\u001b[0m \u001b[0murl\u001b[0m\u001b[0;34m=\u001b[0m\u001b[0murl\u001b[0m\u001b[0;34m,\u001b[0m \u001b[0;34m**\u001b[0m\u001b[0mkwargs\u001b[0m\u001b[0;34m)\u001b[0m\u001b[0;34m\u001b[0m\u001b[0;34m\u001b[0m\u001b[0m\n\u001b[0m\u001b[1;32m     62\u001b[0m \u001b[0;34m\u001b[0m\u001b[0m\n\u001b[1;32m     63\u001b[0m \u001b[0;34m\u001b[0m\u001b[0m\n",
      "\u001b[0;32m~/miniconda3/envs/ds_prod/lib/python3.8/site-packages/requests/sessions.py\u001b[0m in \u001b[0;36mrequest\u001b[0;34m(self, method, url, params, data, headers, cookies, files, auth, timeout, allow_redirects, proxies, hooks, stream, verify, cert, json)\u001b[0m\n\u001b[1;32m    527\u001b[0m         }\n\u001b[1;32m    528\u001b[0m         \u001b[0msend_kwargs\u001b[0m\u001b[0;34m.\u001b[0m\u001b[0mupdate\u001b[0m\u001b[0;34m(\u001b[0m\u001b[0msettings\u001b[0m\u001b[0;34m)\u001b[0m\u001b[0;34m\u001b[0m\u001b[0;34m\u001b[0m\u001b[0m\n\u001b[0;32m--> 529\u001b[0;31m         \u001b[0mresp\u001b[0m \u001b[0;34m=\u001b[0m \u001b[0mself\u001b[0m\u001b[0;34m.\u001b[0m\u001b[0msend\u001b[0m\u001b[0;34m(\u001b[0m\u001b[0mprep\u001b[0m\u001b[0;34m,\u001b[0m \u001b[0;34m**\u001b[0m\u001b[0msend_kwargs\u001b[0m\u001b[0;34m)\u001b[0m\u001b[0;34m\u001b[0m\u001b[0;34m\u001b[0m\u001b[0m\n\u001b[0m\u001b[1;32m    530\u001b[0m \u001b[0;34m\u001b[0m\u001b[0m\n\u001b[1;32m    531\u001b[0m         \u001b[0;32mreturn\u001b[0m \u001b[0mresp\u001b[0m\u001b[0;34m\u001b[0m\u001b[0;34m\u001b[0m\u001b[0m\n",
      "\u001b[0;32m~/miniconda3/envs/ds_prod/lib/python3.8/site-packages/requests/sessions.py\u001b[0m in \u001b[0;36msend\u001b[0;34m(self, request, **kwargs)\u001b[0m\n\u001b[1;32m    643\u001b[0m \u001b[0;34m\u001b[0m\u001b[0m\n\u001b[1;32m    644\u001b[0m         \u001b[0;31m# Send the request\u001b[0m\u001b[0;34m\u001b[0m\u001b[0;34m\u001b[0m\u001b[0;34m\u001b[0m\u001b[0m\n\u001b[0;32m--> 645\u001b[0;31m         \u001b[0mr\u001b[0m \u001b[0;34m=\u001b[0m \u001b[0madapter\u001b[0m\u001b[0;34m.\u001b[0m\u001b[0msend\u001b[0m\u001b[0;34m(\u001b[0m\u001b[0mrequest\u001b[0m\u001b[0;34m,\u001b[0m \u001b[0;34m**\u001b[0m\u001b[0mkwargs\u001b[0m\u001b[0;34m)\u001b[0m\u001b[0;34m\u001b[0m\u001b[0;34m\u001b[0m\u001b[0m\n\u001b[0m\u001b[1;32m    646\u001b[0m \u001b[0;34m\u001b[0m\u001b[0m\n\u001b[1;32m    647\u001b[0m         \u001b[0;31m# Total elapsed time of the request (approximately)\u001b[0m\u001b[0;34m\u001b[0m\u001b[0;34m\u001b[0m\u001b[0;34m\u001b[0m\u001b[0m\n",
      "\u001b[0;32m~/miniconda3/envs/ds_prod/lib/python3.8/site-packages/requests/adapters.py\u001b[0m in \u001b[0;36msend\u001b[0;34m(self, request, stream, timeout, verify, cert, proxies)\u001b[0m\n\u001b[1;32m    517\u001b[0m                 \u001b[0;32mraise\u001b[0m \u001b[0mSSLError\u001b[0m\u001b[0;34m(\u001b[0m\u001b[0me\u001b[0m\u001b[0;34m,\u001b[0m \u001b[0mrequest\u001b[0m\u001b[0;34m=\u001b[0m\u001b[0mrequest\u001b[0m\u001b[0;34m)\u001b[0m\u001b[0;34m\u001b[0m\u001b[0;34m\u001b[0m\u001b[0m\n\u001b[1;32m    518\u001b[0m \u001b[0;34m\u001b[0m\u001b[0m\n\u001b[0;32m--> 519\u001b[0;31m             \u001b[0;32mraise\u001b[0m \u001b[0mConnectionError\u001b[0m\u001b[0;34m(\u001b[0m\u001b[0me\u001b[0m\u001b[0;34m,\u001b[0m \u001b[0mrequest\u001b[0m\u001b[0;34m=\u001b[0m\u001b[0mrequest\u001b[0m\u001b[0;34m)\u001b[0m\u001b[0;34m\u001b[0m\u001b[0;34m\u001b[0m\u001b[0m\n\u001b[0m\u001b[1;32m    520\u001b[0m \u001b[0;34m\u001b[0m\u001b[0m\n\u001b[1;32m    521\u001b[0m         \u001b[0;32mexcept\u001b[0m \u001b[0mClosedPoolError\u001b[0m \u001b[0;32mas\u001b[0m \u001b[0me\u001b[0m\u001b[0;34m:\u001b[0m\u001b[0;34m\u001b[0m\u001b[0;34m\u001b[0m\u001b[0m\n",
      "\u001b[0;31mConnectionError\u001b[0m: HTTPConnectionPool(host='0.0.0.0', port=5000): Max retries exceeded with url: /rossmann/predict (Caused by NewConnectionError('<urllib3.connection.HTTPConnection object at 0x7fbb6afc6850>: Failed to establish a new connection: [Errno 111] Connection refused'))"
     ]
    }
   ],
   "source": [
    "import requests\n",
    "#api call\n",
    "url = 'http://0.0.0.0:5000/rossmann/predict'\n",
    "\n",
    "#header\n",
    "header = {'Content-type': 'application/json'}\n",
    "\n",
    "#data\n",
    "data = data\n",
    "\n",
    "r = requests.post(url, data=data, headers=header)\n",
    "print(f'status code: {r.status_code}')\n"
   ]
  },
  {
   "cell_type": "code",
   "execution_count": null,
   "id": "2fcfc0b5",
   "metadata": {},
   "outputs": [],
   "source": []
  }
 ],
 "metadata": {
  "kernelspec": {
   "display_name": "Python 3 (ipykernel)",
   "language": "python",
   "name": "python3"
  },
  "language_info": {
   "codemirror_mode": {
    "name": "ipython",
    "version": 3
   },
   "file_extension": ".py",
   "mimetype": "text/x-python",
   "name": "python",
   "nbconvert_exporter": "python",
   "pygments_lexer": "ipython3",
   "version": "3.8.5"
  },
  "toc": {
   "base_numbering": 1,
   "nav_menu": {},
   "number_sections": true,
   "sideBar": true,
   "skip_h1_title": false,
   "title_cell": "Table of Contents",
   "title_sidebar": "Contents",
   "toc_cell": false,
   "toc_position": {
    "height": "calc(100% - 180px)",
    "left": "10px",
    "top": "150px",
    "width": "165px"
   },
   "toc_section_display": true,
   "toc_window_display": false
  },
  "varInspector": {
   "cols": {
    "lenName": 16,
    "lenType": 16,
    "lenVar": 40
   },
   "kernels_config": {
    "python": {
     "delete_cmd_postfix": "",
     "delete_cmd_prefix": "del ",
     "library": "var_list.py",
     "varRefreshCmd": "print(var_dic_list())"
    },
    "r": {
     "delete_cmd_postfix": ") ",
     "delete_cmd_prefix": "rm(",
     "library": "var_list.r",
     "varRefreshCmd": "cat(var_dic_list()) "
    }
   },
   "types_to_exclude": [
    "module",
    "function",
    "builtin_function_or_method",
    "instance",
    "_Feature"
   ],
   "window_display": false
  }
 },
 "nbformat": 4,
 "nbformat_minor": 5
}
